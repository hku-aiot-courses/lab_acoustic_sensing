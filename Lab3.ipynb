{
 "cells": [
  {
   "cell_type": "markdown",
   "id": "d2a73912",
   "metadata": {},
   "source": [
    "Before you turn this problem in, make sure everything runs as expected. First, **restart the kernel** (in the menubar, select Kernel$\\rightarrow$Restart) and then **run all cells** (in the menubar, select Cell$\\rightarrow$Run All).\n",
    "\n",
    "Make sure you fill in any place that says `YOUR CODE HERE` or \"YOUR ANSWER HERE\", as well as your name and student ID below:"
   ]
  },
  {
   "cell_type": "code",
   "execution_count": null,
   "id": "3a346643",
   "metadata": {},
   "outputs": [],
   "source": [
    "NAME1 = \"\"\n",
    "NAME2 = \"\"\n",
    "NAME3 = \"\"\n",
    "ID1 = \"\" ## Your student id\n",
    "ID2 = \"\"\n",
    "ID3 = \"\""
   ]
  },
  {
   "cell_type": "markdown",
   "id": "4ca84914",
   "metadata": {},
   "source": [
    "---"
   ]
  },
  {
   "cell_type": "markdown",
   "id": "1aee1230-1b00-4474-b80a-d5a8e0d0273c",
   "metadata": {
    "deletable": false,
    "editable": false,
    "nbgrader": {
     "cell_type": "markdown",
     "checksum": "2c190662f2429c16cb1bb42d34b80539",
     "grade": false,
     "grade_id": "cell-26a876de5b151db6",
     "locked": true,
     "schema_version": 3,
     "solution": false,
     "task": false
    }
   },
   "source": [
    "# Lab 3 Generating FMCW wave"
   ]
  },
  {
   "cell_type": "markdown",
   "id": "15b2234c-fb2f-4d00-be1d-9d844f957b49",
   "metadata": {
    "deletable": false,
    "editable": false,
    "nbgrader": {
     "cell_type": "markdown",
     "checksum": "2586e3ec70e2066dac786974c848983d",
     "grade": false,
     "grade_id": "cell-6ec16da325d1ed8a",
     "locked": true,
     "schema_version": 3,
     "solution": false,
     "task": false
    }
   },
   "source": [
    "FMCW (Frequency-Modulated Continuous Wave) is a special type of wave which radiates continuous transmission power like a simple continuous wave radar. You may have heard about it in previous course. In this section, we use FMCW acoustic signals as our transmission signal.\n",
    "\n",
    "Simple CW waves without frequency modulation have the disadvantage that it cannot determine target range because it lacks the timing mark necessary to allow the system to time accurately the transmit and receive cycle and to convert this into range. Such a time reference for measuring the distance of stationary objects, but can be generated using of frequency modulation of the transmitted signal. In this method, a signal is transmitted, which increases or decreases in the frequency periodically. When an echo signal is received, we can easily get the frequency change and its time stamp.\n",
    "<div  align=\"center\">   \n",
    "<img src=\"./images/fmcw_ex.png\" width=\"50%\" height=\"50%\" ></img>\n",
    "</div>"
   ]
  },
  {
   "cell_type": "markdown",
   "id": "3e0d6dea-daa0-4404-8a96-b2d36b1f0faa",
   "metadata": {
    "deletable": false,
    "editable": false,
    "nbgrader": {
     "cell_type": "markdown",
     "checksum": "6f07d58af04fdf8976b55ef3dca5bf1f",
     "grade": false,
     "grade_id": "cell-1c44d0cdbde2746c",
     "locked": true,
     "schema_version": 3,
     "solution": false,
     "task": false
    },
    "tags": []
   },
   "source": [
    "\n",
    "A typical FMCW is given by\n",
    "\n",
    "$$\n",
    "    S(t)=\\cos \\left(2 \\pi\\left(f_{\\min }+\\frac{B}{2 T}\\right) t\\right)\n",
    "$$\n",
    "where $f_{min}$ is the lowest frequency of FMCW, $B$ is the bandwidth. The frequency of $S(t)$ is changed over time, which is\n",
    "$$\n",
    "f(t) = f_{\\min} + \\frac{B}{2T} t\n",
    "$$"
   ]
  },
  {
   "cell_type": "markdown",
   "id": "60e715ff-5abc-4d73-8929-8e33f0ac4b6e",
   "metadata": {
    "deletable": false,
    "editable": false,
    "nbgrader": {
     "cell_type": "markdown",
     "checksum": "ec403b7228fe240e567db119c654017f",
     "grade": false,
     "grade_id": "cell-8dad6acc8bbb59da",
     "locked": true,
     "schema_version": 3,
     "solution": false,
     "task": false
    }
   },
   "source": [
    "We can use `scipy.signal.chirp` to generate a series of FMCW waves."
   ]
  },
  {
   "cell_type": "code",
   "execution_count": null,
   "id": "763eb021-4e92-488c-b011-d5dd9716e435",
   "metadata": {
    "deletable": false,
    "editable": false,
    "nbgrader": {
     "cell_type": "code",
     "checksum": "0ddeed33ea2005e5ef6e6c237a494f9b",
     "grade": false,
     "grade_id": "cell-f119f7d021919bdb",
     "locked": true,
     "schema_version": 3,
     "solution": false,
     "task": false
    }
   },
   "outputs": [],
   "source": [
    "from scipy.signal import chirp,spectrogram\n",
    "import numpy as np\n",
    "from matplotlib import pyplot as plt"
   ]
  },
  {
   "cell_type": "code",
   "execution_count": null,
   "id": "e04106d1-4f80-4dab-a53a-e08f7fd72cec",
   "metadata": {
    "tags": []
   },
   "outputs": [],
   "source": [
    "f_min = 30\n",
    "f_max = 60\n",
    "fs = (int)(1500)\n",
    "T = 2\n",
    "t = np.linspace(0,T, T*fs)\n",
    "data = chirp(t, f0 = f_min, f1 = f_max, t1 = T, method = 'linear')"
   ]
  },
  {
   "cell_type": "code",
   "execution_count": null,
   "id": "26dc064e-cbac-49c4-a834-25d339a9a512",
   "metadata": {
    "tags": []
   },
   "outputs": [],
   "source": [
    "plt.plot(t,data)\n",
    "plt.xlim(0,2)\n",
    "plt.title('time domain of FMCW wave')\n",
    "plt.xlabel('t')\n",
    "plt.show()"
   ]
  },
  {
   "cell_type": "markdown",
   "id": "eabd7804-d878-416f-bc84-5a270856766c",
   "metadata": {
    "deletable": false,
    "editable": false,
    "nbgrader": {
     "cell_type": "markdown",
     "checksum": "c7266ae2edd46a9182bd771486be8036",
     "grade": false,
     "grade_id": "cell-3504e10d59132167",
     "locked": true,
     "schema_version": 3,
     "solution": false,
     "task": false
    },
    "tags": []
   },
   "source": [
    "We can see the spectrum of FMCW wave. "
   ]
  },
  {
   "cell_type": "code",
   "execution_count": null,
   "id": "9110e256-5c45-496b-af54-f75585f729ff",
   "metadata": {
    "tags": []
   },
   "outputs": [],
   "source": [
    "f, t, Sxx = spectrogram(data, fs)\n",
    "plt.pcolormesh(t, f, Sxx, shading='gouraud')\n",
    "plt.ylabel('f')\n",
    "plt.xlabel('t')\n",
    "plt.title('Spectrum of FMCW wave')\n",
    "plt.ylim(0,100)\n",
    "plt.show()"
   ]
  },
  {
   "cell_type": "markdown",
   "id": "41ab0784-a0d0-446f-9893-7b4b9fe48104",
   "metadata": {
    "deletable": false,
    "editable": false,
    "nbgrader": {
     "cell_type": "markdown",
     "checksum": "ef42537dc3a162908a8ac91d1b788f86",
     "grade": false,
     "grade_id": "cell-9a6c11d467c05c53",
     "locked": true,
     "schema_version": 3,
     "solution": false,
     "task": false
    }
   },
   "source": [
    "<b><font color=\"red\" size=5>Checkpoints (20 points)</font></b>\n",
    "\n",
    "You are required to implement `fmcw_generator()` function. It can generate the desired periodical FMCW wave w/o blank space and output the frequency. \n",
    "\n",
    "There is a parameter `zero` indicating whether to pad zeros after each period. If true, then `zero_time` of zero shoule be added to every period of the signal. Period `T` indicates one single period of the signal (without zero padding). It will repeat `iteration` times. "
   ]
  },
  {
   "cell_type": "markdown",
   "id": "0bee4240-6dd8-4ea4-9f30-2eadee51bd20",
   "metadata": {
    "deletable": false,
    "editable": false,
    "nbgrader": {
     "cell_type": "markdown",
     "checksum": "0dfdf1ba22b86d1d6b4c4fbeeede4d1c",
     "grade": false,
     "grade_id": "cell-da8864e3bd8e992e",
     "locked": true,
     "schema_version": 3,
     "solution": false,
     "task": false
    },
    "tags": []
   },
   "source": [
    "Example: \n",
    "- input:\n",
    "```\n",
    "f0 = 1\n",
    "f1 = 2\n",
    "fs = 5\n",
    "T = 1\n",
    "iteration = 2\n",
    "zero = True\n",
    "zero_time = 1\n",
    "```\n",
    "- return:\n",
    "```\n",
    "(array([ 1.        ,  0.18738131, -0.9921147 ,  0.18738131,  0.72896863,\n",
    "         0.        ,  0.        ,  0.        ,  0.        ,  0.        ,\n",
    "         1.        ,  0.18738131, -0.9921147 ,  0.18738131,  0.72896863,\n",
    "         0.        ,  0.        ,  0.        ,  0.        ,  0.        ]),\n",
    " array([1. , 1.2, 1.4, 1.6, 1.8, 0. , 0. , 0. , 0. , 0. , 1. , 1.2, 1.4,\n",
    "        1.6, 1.8, 0. , 0. , 0. , 0. , 0. ]))\n",
    "```"
   ]
  },
  {
   "cell_type": "code",
   "execution_count": null,
   "id": "9f2e96ca-6cb4-4310-8224-d6683f65d193",
   "metadata": {
    "deletable": false,
    "nbgrader": {
     "cell_type": "code",
     "checksum": "b5af6cb1922d3ab7e30acfcf247b4333",
     "grade": true,
     "grade_id": "cell-40ad059dc8119c75",
     "locked": false,
     "points": 10,
     "schema_version": 3,
     "solution": true,
     "task": false
    },
    "tags": []
   },
   "outputs": [],
   "source": [
    "def fmcw_generator(f0, f1, fs, T, iteration,zero,zero_time):\n",
    "    '''\n",
    "    Generate a chirp with start frequency with\n",
    "        - start frequency              : f0 (int)\n",
    "        - end frequency                : f1 (int)\n",
    "        - Sampling Rate                : fs (int)\n",
    "        - Period                       : T (float32)\n",
    "        - Repeat time                  : iteration (int)\n",
    "        - Zero-padding after one period: zero (bool)\n",
    "        - Time of zero padding         : zero_time\n",
    "    You have to return:\n",
    "        - Generated signals            : ndarray\n",
    "        - Frequencies                  : ndarray (Fill the zero padding part with 0)\n",
    "    '''\n",
    "    # YOUR CODE HERE\n",
    "    raise NotImplementedError()"
   ]
  },
  {
   "cell_type": "code",
   "execution_count": null,
   "id": "0dbca477-16ba-42dc-8127-a2a70976f98b",
   "metadata": {
    "deletable": false,
    "editable": false,
    "nbgrader": {
     "cell_type": "code",
     "checksum": "2cf80bc64f455021e44caef967062fa0",
     "grade": true,
     "grade_id": "cell-0132de37b0571f36",
     "locked": true,
     "points": 0,
     "schema_version": 3,
     "solution": false,
     "task": false
    },
    "tags": []
   },
   "outputs": [],
   "source": []
  },
  {
   "cell_type": "code",
   "execution_count": null,
   "id": "093a2b48-13ad-4f40-981e-95072e541258",
   "metadata": {
    "deletable": false,
    "editable": false,
    "nbgrader": {
     "cell_type": "code",
     "checksum": "5c96a5e9272c7b0cb023235caa5ef407",
     "grade": true,
     "grade_id": "cell-de10e0e0be01458a",
     "locked": true,
     "points": 2,
     "schema_version": 3,
     "solution": false,
     "task": false
    },
    "tags": []
   },
   "outputs": [],
   "source": []
  },
  {
   "cell_type": "code",
   "execution_count": null,
   "id": "3369bf7a-95f7-4ee1-aa49-3220383af9cb",
   "metadata": {
    "deletable": false,
    "editable": false,
    "nbgrader": {
     "cell_type": "code",
     "checksum": "84b6ac7f250c0517fdd084d3752d8c72",
     "grade": true,
     "grade_id": "cell-5c4755b1baa57356",
     "locked": true,
     "points": 2,
     "schema_version": 3,
     "solution": false,
     "task": false
    },
    "tags": []
   },
   "outputs": [],
   "source": []
  },
  {
   "cell_type": "code",
   "execution_count": null,
   "id": "c2228ead-87b4-4e2f-bc65-f408285f1bef",
   "metadata": {
    "deletable": false,
    "editable": false,
    "nbgrader": {
     "cell_type": "code",
     "checksum": "1641883dbbde6438a695e1ec57a193ab",
     "grade": true,
     "grade_id": "cell-f1c3ccdc66a10d47",
     "locked": true,
     "points": 2,
     "schema_version": 3,
     "solution": false,
     "task": false
    },
    "tags": []
   },
   "outputs": [],
   "source": []
  },
  {
   "cell_type": "code",
   "execution_count": null,
   "id": "425f9a2a-5adf-4802-b689-edd80912be46",
   "metadata": {
    "deletable": false,
    "editable": false,
    "nbgrader": {
     "cell_type": "code",
     "checksum": "8eaa7a4b3bd31f9e248249f7d7c395b1",
     "grade": true,
     "grade_id": "cell-e8c826e06e11200a",
     "locked": true,
     "points": 2,
     "schema_version": 3,
     "solution": false,
     "task": false
    },
    "tags": []
   },
   "outputs": [],
   "source": []
  },
  {
   "cell_type": "code",
   "execution_count": null,
   "id": "c7984314-75ee-43f5-af93-286ef8c6f6d4",
   "metadata": {
    "deletable": false,
    "editable": false,
    "nbgrader": {
     "cell_type": "code",
     "checksum": "3d475beea0efeda0bdc0a8487549f241",
     "grade": true,
     "grade_id": "cell-e0322c4eda37ce35",
     "locked": true,
     "points": 2,
     "schema_version": 3,
     "solution": false,
     "task": false
    },
    "tags": []
   },
   "outputs": [],
   "source": []
  },
  {
   "cell_type": "code",
   "execution_count": null,
   "id": "d333e834-160c-43b7-9dd5-a9ace42c14b2",
   "metadata": {},
   "outputs": [],
   "source": []
  },
  {
   "cell_type": "code",
   "execution_count": null,
   "id": "be74b003-19a1-4560-9b98-301048274440",
   "metadata": {},
   "outputs": [],
   "source": []
  }
 ],
 "metadata": {
  "citation-manager": {
   "items": {}
  },
  "kernelspec": {
   "display_name": "Python 3 (ipykernel)",
   "language": "python",
   "name": "python3"
  },
  "language_info": {
   "codemirror_mode": {
    "name": "ipython",
    "version": 3
   },
   "file_extension": ".py",
   "mimetype": "text/x-python",
   "name": "python",
   "nbconvert_exporter": "python",
   "pygments_lexer": "ipython3",
   "version": "3.9.13"
  }
 },
 "nbformat": 4,
 "nbformat_minor": 5
}
