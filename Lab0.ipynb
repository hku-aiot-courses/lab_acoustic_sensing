{
 "cells": [
  {
   "cell_type": "markdown",
   "id": "fee3fc7a",
   "metadata": {},
   "source": [
    "Before you turn this problem in, make sure everything runs as expected. First, **restart the kernel** (in the menubar, select Kernel$\\rightarrow$Restart) and then **run all cells** (in the menubar, select Cell$\\rightarrow$Run All).\n",
    "\n",
    "Make sure you fill in any place that says `YOUR CODE HERE` or \"YOUR ANSWER HERE\", as well as your name and student ID below:"
   ]
  },
  {
   "cell_type": "code",
   "execution_count": null,
   "id": "fa5dd446",
   "metadata": {},
   "outputs": [],
   "source": [
    "NAME1 = \"\"\n",
    "NAME2 = \"\"\n",
    "NAME3 = \"\"\n",
    "ID1 = \"\" ## Your student id\n",
    "ID2 = \"\"\n",
    "ID3 = \"\""
   ]
  },
  {
   "cell_type": "markdown",
   "id": "ee3437d5",
   "metadata": {},
   "source": [
    "---"
   ]
  },
  {
   "cell_type": "markdown",
   "id": "7a1d353c-bd89-4472-812c-59833fd652b1",
   "metadata": {
    "deletable": false,
    "editable": false,
    "nbgrader": {
     "cell_type": "markdown",
     "checksum": "e1b00688ba8de52c5d252dbe47516cd7",
     "grade": false,
     "grade_id": "cell-4434dfc9f17eaca1",
     "locked": true,
     "schema_version": 3,
     "solution": false,
     "task": false
    }
   },
   "source": [
    "# Lab 0 Prerequisite"
   ]
  },
  {
   "cell_type": "markdown",
   "id": "f7e71e4d-7631-4716-b185-dd69200c80b1",
   "metadata": {},
   "source": [
    "Welcome to COMP7310 Artificial Intellegence of Things. This is the lab part of this course. As regulated, you shall choose one project to finish. Our lab is composed mostly of code implemention. You are expected to read the instructions and tutorials, and then finish the tasks. This is the primary requirements. If you implement these tasks correctly, you will earn grades of 80-90% in our assignments. Besides, we provide some challenging tasks for some self-motivated students. In these tasks, you have to write multiple codes, enhance the performance of the algorithm or even transplant your sensing project to mobile devices. \n",
    "\n",
    "Note that we would provide support to those primary requirements at best efforts. For the advanced tasks, however, we may not offer too much help. We believe you can handle them if you fully understand the primary part.\n",
    "\n",
    "You shall write a report ( no more than 2 pages ) and a presentation in class. The grading criteria is thus <b>comprehensive and contribution-based</b>. We will assess your code, your report as well as your performance of presentation. Note that althogh the project is a team-based work, every student is evaluated independently. You will be asked to claim your contribution at the end of the project.\n",
    "\n",
    "We encourage discussions with others to clarify questions about the programming assignment problem statements. However\n",
    "- Programming solutions must be your own (your team). If we find you plagiarize, either from your classmates or Internet, you will get 0 score of this lab.\n",
    "- <b>Do NOT</b> make your remote assignment repository public."
   ]
  },
  {
   "cell_type": "markdown",
   "id": "eae51cd1-79f6-47ac-91fd-0cbc9f912042",
   "metadata": {
    "deletable": false,
    "editable": false,
    "nbgrader": {
     "cell_type": "markdown",
     "checksum": "266230243451f9e8b88569897622f4ed",
     "grade": false,
     "grade_id": "cell-aaa9f5016abf34e3",
     "locked": true,
     "schema_version": 3,
     "solution": false,
     "task": false
    },
    "tags": []
   },
   "source": [
    "<!-- install the required conda env -->\n",
    "Before we start, we should first install the required environment. Jupyter notebook is utilized to constuct our programming assignments, which is an interactive computing platform. You can use whatever platform you are used to, e.g. Windows, MacOS and Linux. Specifically for acoustic sensing, we recommend you not to use virtual machine (including WSL2), since we may include some tasks using your on-device microphone and speakers.\n",
    "\n",
    "We assume you with some experience in Python programming as well as Git. Here we list some helpful materials below to help you get started."
   ]
  },
  {
   "cell_type": "markdown",
   "id": "7cbd503a",
   "metadata": {
    "deletable": false,
    "editable": false,
    "nbgrader": {
     "cell_type": "markdown",
     "checksum": "34de4266be9a31ff5f6cc37df3090932",
     "grade": false,
     "grade_id": "cell-5578831b38cfc015",
     "locked": true,
     "schema_version": 3,
     "solution": false,
     "task": false
    },
    "tags": []
   },
   "source": [
    "### 0.1 Python"
   ]
  },
  {
   "cell_type": "markdown",
   "id": "21350dd6-3208-4ca4-b5a6-6cd5c7ae3009",
   "metadata": {
    "deletable": false,
    "editable": false,
    "nbgrader": {
     "cell_type": "markdown",
     "checksum": "b198c1e35cf3feb3cf2700f19db33f6e",
     "grade": false,
     "grade_id": "cell-6e0577ee58971748",
     "locked": true,
     "schema_version": 3,
     "solution": false,
     "task": false
    }
   },
   "source": [
    "The labs are all developed in Python. Generally, Python is an easy-learning language. If you are still not familiar with it, below are some useful materials for you.\n",
    "- [廖雪峰的Python3教程(In Chinese)](https://www.liaoxuefeng.com/wiki/1016959663602400)\n",
    "- Python编程：从入门到实践 (In chinese and English)\n",
    "- [Learn Python - Free Interactive Python Tutorial](https://www.learnpython.org/)\n",
    "\n",
    "FYI, we list some topics you need to be familar with before start:\n",
    "- Python Interpreter\n",
    "- Data Types (Important)\n",
    "- Data Structures (Important)\n",
    "- Flow Control (Important)\n",
    "- Functions (Important)\n",
    "- Modules\n",
    "- Input and Output\n",
    "- Errors and Exceptions\n",
    "- Standard Library, e.g. numpy, scipy, matplotlib\n",
    "- Environments and Packages (Important)\n",
    "\n",
    "We recommend you to use conda to manage your package. You can choose to install either Anaconda or Miniconda. They can be downloaded through their website. Afterwards, you have to run the following command in your bash or commandline:\n",
    "```\n",
    "conda env create -f *.yml\n",
    "```\n",
    "\n",
    "You are also recommended to install some modules through `pip`. You may confront some errors when installing. Do not worry. For a beginner, it is normal. You are encouraged Google these problems or seek help from your teammates. "
   ]
  },
  {
   "cell_type": "markdown",
   "id": "380b6b1d-6139-4189-80ad-0e9cfb68b40c",
   "metadata": {
    "deletable": false,
    "editable": false,
    "nbgrader": {
     "cell_type": "markdown",
     "checksum": "1721b4c26418bc707ad2c245d22f1446",
     "grade": false,
     "grade_id": "cell-9a20f61a6bb8c445",
     "locked": true,
     "schema_version": 3,
     "solution": false,
     "task": false
    },
    "tags": []
   },
   "source": [
    "### 0.2 Git"
   ]
  },
  {
   "cell_type": "markdown",
   "id": "12ffccee-771a-4a8a-af0a-61c51845b5a6",
   "metadata": {
    "deletable": false,
    "editable": false,
    "nbgrader": {
     "cell_type": "markdown",
     "checksum": "9cd253a129512a2aa677bff04bd57f10",
     "grade": false,
     "grade_id": "cell-68db8490da4ffe26",
     "locked": true,
     "schema_version": 3,
     "solution": false,
     "task": false
    },
    "tags": []
   },
   "source": [
    "As a CS student, you are recommended to use Git to manage your projects with a clear editing history. There are also many tutorails of Git, e.g.  [Git cheat sheet](https://education.github.com/git-cheat-sheet-education.pdf). \n",
    "\n",
    "At least, you are required to know the following command:\n",
    "- `git clone`\n",
    "- `git add`\n",
    "- `git commit`\n",
    "- `git push`\n",
    "- `git pull`\n",
    "\n",
    "Besides, we will use Github Classroom for assignment submission. You can learn how to submit your assignment with Github classroom at the following websites: [GitHub Classroom: How students complete assignments](https://www.youtube.com/watch?v=ObaFRGp_Eko). \n",
    "\n",
    "Currently, Github no longer support passwords to access repositiories. You may need to use ssh keys or tokens to connect to GitHub, please read the following two pages for more details:\n",
    "- [Creating a personal access token](https://docs.github.com/cn/authentication/keeping-your-account-and-data-secure/creating-a-personal-access-token)\n",
    "- [Connecting to GitHub with SSH](https://docs.github.com/cn/authentication/keeping-your-account-and-data-secure/creating-a-personal-access-token)\n",
    "\n",
    "You can use either of the two methods above to access your repository. Note: if you choose to use the token-based method, remember to enable the writing authority when generating the token."
   ]
  },
  {
   "cell_type": "markdown",
   "id": "ae63645f-71ea-4bb4-bda1-a236d801fd30",
   "metadata": {
    "deletable": false,
    "editable": false,
    "nbgrader": {
     "cell_type": "markdown",
     "checksum": "5ef17f7a072aabd5d364e44e0aabeef7",
     "grade": false,
     "grade_id": "cell-956db64aa39d5152",
     "locked": true,
     "schema_version": 3,
     "solution": false,
     "task": false
    },
    "tags": []
   },
   "source": [
    "### 0.3 Workflow"
   ]
  },
  {
   "cell_type": "markdown",
   "id": "a1991606",
   "metadata": {
    "tags": []
   },
   "source": [
    "ToDO"
   ]
  }
 ],
 "metadata": {
  "kernelspec": {
   "display_name": "Python 3 (ipykernel)",
   "language": "python",
   "name": "python3"
  },
  "language_info": {
   "codemirror_mode": {
    "name": "ipython",
    "version": 3
   },
   "file_extension": ".py",
   "mimetype": "text/x-python",
   "name": "python",
   "nbconvert_exporter": "python",
   "pygments_lexer": "ipython3",
   "version": "3.9.13"
  },
  "latex_envs": {
   "LaTeX_envs_menu_present": true,
   "autoclose": false,
   "autocomplete": true,
   "bibliofile": "biblio.bib",
   "cite_by": "apalike",
   "current_citInitial": 1,
   "eqLabelWithNumbers": true,
   "eqNumInitial": 1,
   "hotkeys": {
    "equation": "Ctrl-E",
    "itemize": "Ctrl-I"
   },
   "labels_anchors": false,
   "latex_user_defs": false,
   "report_style_numbering": false,
   "user_envs_cfg": false
  },
  "toc": {
   "base_numbering": 1,
   "nav_menu": {},
   "number_sections": true,
   "sideBar": true,
   "skip_h1_title": false,
   "title_cell": "Table of Contents",
   "title_sidebar": "Contents",
   "toc_cell": false,
   "toc_position": {},
   "toc_section_display": true,
   "toc_window_display": false
  },
  "vscode": {
   "interpreter": {
    "hash": "20860940b10750021ce4e6452d94aa28ec071442ba1e4e639127a59d6b37cbb9"
   }
  }
 },
 "nbformat": 4,
 "nbformat_minor": 5
}
