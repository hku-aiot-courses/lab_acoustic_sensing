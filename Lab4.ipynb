{
 "cells": [
  {
   "cell_type": "markdown",
   "id": "0ae06ee4",
   "metadata": {},
   "source": [
    "Before you turn this problem in, make sure everything runs as expected. First, **restart the kernel** (in the menubar, select Kernel$\\rightarrow$Restart) and then **run all cells** (in the menubar, select Cell$\\rightarrow$Run All).\n",
    "\n",
    "Make sure you fill in any place that says `YOUR CODE HERE` or \"YOUR ANSWER HERE\", as well as your name and student ID below:"
   ]
  },
  {
   "cell_type": "code",
   "execution_count": null,
   "id": "5666dba6",
   "metadata": {},
   "outputs": [],
   "source": [
    "NAME1 = \"\"\n",
    "NAME2 = \"\"\n",
    "NAME3 = \"\"\n",
    "ID1 = \"\" ## Your student id\n",
    "ID2 = \"\"\n",
    "ID3 = \"\""
   ]
  },
  {
   "cell_type": "markdown",
   "id": "b3ed8f29",
   "metadata": {},
   "source": [
    "---"
   ]
  },
  {
   "cell_type": "markdown",
   "id": "98e13c2c-542e-47c0-a03c-b3dfaa0b2a99",
   "metadata": {},
   "source": [
    "# Lab 4 Distance Measuring Using FMCW signals "
   ]
  },
  {
   "cell_type": "markdown",
   "id": "fbd710cb-b363-4352-85e5-6edcff1ba953",
   "metadata": {},
   "source": [
    "In the previous labs, you have generated a FMCW wave, i.e.\n",
    "$$\n",
    "    S(t)=\\cos \\left(2 \\pi\\left(f_{\\min }+\\frac{B}{2 T}\\right) t\\right)\n",
    "$$\n",
    "\n",
    "Due to propogation delay, the received signal would be\n",
    "$$\n",
    "R(t) = A \\cos \\left(2 \\pi\\left(f_{\\min }+\\frac{B}{2 T}\\left(t-t_{d}\\right)\\right)\\left(t-t_{d}\\right)\\right)\n",
    "$$\n",
    "where $A$ denotes the attenuation factor while $t_d$ represents the time delay required for the signal to travel from the transmitter to the receiver."
   ]
  },
  {
   "cell_type": "markdown",
   "id": "9be6b55d-425e-47df-bace-a28b48569846",
   "metadata": {},
   "source": [
    "Then We can multiply $S(t)$ and $R(t)$ and filter the high-frequency part. Suppose the distance between recordable device and sender is $d_r$, then we have $t_d =d_r/ v_s$. In other word,\n",
    "\n",
    "$$\n",
    "    V(t)=\\frac{A}{2} \\cos \\left(2 \\pi f_{\\min } \\frac{d_r}{v_s}+\\left(\\frac{2 \\pi B d_r t}{v_s T}-\\frac{\\pi B d_r^{2}}{v_s^{2} T}\\right)\\right)\n",
    "$$\n",
    "\n",
    "Therefore, we can observe a peek at $f = Bd_r/v_sT$ in the frequency domain."
   ]
  },
  {
   "cell_type": "markdown",
   "id": "ad9a142b-b0d7-483e-a3c5-f757afb913c4",
   "metadata": {},
   "source": [
    "We have prepared one data for you to get a hand-on perception. You can load the data by"
   ]
  },
  {
   "cell_type": "code",
   "execution_count": null,
   "id": "231743ac-2df8-44bf-bf08-3ed50f0ee8db",
   "metadata": {},
   "outputs": [],
   "source": [
    "import numpy as np\n",
    "import sounddevice as sd\n",
    "# You may need run `conda install -c conda-forge libsndfile` if you use Mac M1\n",
    "import soundfile as sf\n",
    "from scipy import signal\n",
    "from scipy.signal import butter, filtfilt\n",
    "from matplotlib import pyplot as plt"
   ]
  },
  {
   "cell_type": "code",
   "execution_count": null,
   "id": "fcd42851-13b1-4d5f-a257-b2c121096be8",
   "metadata": {},
   "outputs": [],
   "source": [
    "fmcw_receive,fs = sf.read('fmcw_receive_data.wav')\n",
    "# sd.play(fmcw_receive,fs)\n",
    "# fmcw_receive.reshape(-1,1)"
   ]
  },
  {
   "cell_type": "markdown",
   "id": "2885279c-8ae8-46be-9146-920f3f9bcf70",
   "metadata": {},
   "source": [
    "The parameter of sent FMCW wave is"
   ]
  },
  {
   "cell_type": "code",
   "execution_count": null,
   "id": "7983416e-c19a-4e06-9374-1178cb3dd85a",
   "metadata": {},
   "outputs": [],
   "source": [
    "fs = int(48e3)\n",
    "f0 = 18000\n",
    "f1 = 20500\n",
    "T = 0.04\n",
    "iteration = 88\n",
    "zero = True\n",
    "zero_time = 0.04"
   ]
  },
  {
   "cell_type": "markdown",
   "id": "76802550-4e6a-4e26-a2b9-ca07990bf64a",
   "metadata": {},
   "source": [
    "And you can read the sent FMCW wave"
   ]
  },
  {
   "cell_type": "code",
   "execution_count": null,
   "id": "ea92acd6-a4ea-4667-9829-72da1ef5e8fd",
   "metadata": {},
   "outputs": [],
   "source": [
    "fmcw, _ = sf.read('fmcw.wav',dtype='float32')"
   ]
  },
  {
   "cell_type": "markdown",
   "id": "17d029cb-37ca-428b-b934-68713fd51f7c",
   "metadata": {},
   "source": [
    "<b><font color=\"red\" size=5>Checkpoints (10 points)</font></b>\n",
    "\n",
    "Implement `fft_raw()` function. You have to perform FFT on `fmcw_receive` and `fmcw`. You are required to plot their FFT curves. "
   ]
  },
  {
   "cell_type": "code",
   "execution_count": null,
   "id": "3d168398-5991-4e3e-8aa3-2f5ea0783be9",
   "metadata": {
    "deletable": false,
    "nbgrader": {
     "cell_type": "code",
     "checksum": "f9376b4875aff473bdabe7a9cc36628d",
     "grade": true,
     "grade_id": "cell-a77380a9dc6e910d",
     "locked": false,
     "points": 10,
     "schema_version": 3,
     "solution": true,
     "task": false
    },
    "tags": []
   },
   "outputs": [],
   "source": [
    "def fft_raw():\n",
    "    '''\n",
    "        Perform FFT on fmcw and fmcw_receive and plot their curves\n",
    "        Pay attention to the valid information, the frequency range and the axis name\n",
    "        You can use zero padding to enhance the FFT resolution.(optional)\n",
    "    '''\n",
    "    # YOUR CODE HERE\n",
    "    raise NotImplementedError()\n",
    "    "
   ]
  },
  {
   "cell_type": "code",
   "execution_count": null,
   "id": "53d8b8a6-2ea2-491a-b4b9-b2bf2c9fc6f0",
   "metadata": {
    "tags": []
   },
   "outputs": [],
   "source": [
    "fft_raw()"
   ]
  },
  {
   "cell_type": "markdown",
   "id": "0834de94-fd67-458b-a7c6-ea914ca1c666",
   "metadata": {},
   "source": [
    "Next, we will preprocess the received signals. We will guide you throughout the process. Observing the spectrum above, we first need to filter the background noise. \n",
    "\n"
   ]
  },
  {
   "cell_type": "code",
   "execution_count": null,
   "id": "a20980ee-273b-4d5e-a705-0d3a928c9f91",
   "metadata": {},
   "outputs": [],
   "source": [
    "def filt(s, filt_type, \n",
    "           fs, order, \n",
    "           f0, \n",
    "           f1 = None):\n",
    "    '''\n",
    "        s         :   input signal\n",
    "        filt_type :   [\"bandpass\",\"highpass\",\"lowpass\"]\n",
    "        fs        :   sampling rate\n",
    "        order     :   Order of batterworth filter\n",
    "        f0,f1     :   Critical frequency or frequencies\n",
    "                      For bandpass, f0 and f1 need to be specified (f0 < f1)\n",
    "                      For highpass or lowpass, f1 can be ignored\n",
    "                      For a Butterworth filter, this is the point at which the gain drops to \n",
    "                      1/sqrt(2) that of the passband (the “-3 dB point”)\n",
    "        \n",
    "        Return    :   filted \n",
    "                     \n",
    "    '''\n",
    "    if filt_type == \"bandpass\":\n",
    "        assert(f0<f1)\n",
    "        b, a = signal.butter(order, (f0/(fs/2),f1/(fs/2)), filt_type) \n",
    "    else:\n",
    "        b, a = signal.butter(order, f0/(fs/2), filt_type) \n",
    "    filted = signal.filtfilt(b, a, s)  \n",
    "    return filted"
   ]
  },
  {
   "cell_type": "markdown",
   "id": "eff67cc1-399c-4eb8-bee1-b813a78ba1e8",
   "metadata": {},
   "source": [
    "Afterwards, the received signal has to be aligned with the the input signals. We will finish this in `preprocess()` function."
   ]
  },
  {
   "cell_type": "markdown",
   "id": "ae125eeb-5a16-4d4d-9a3f-d99eeb6bcd60",
   "metadata": {},
   "source": [
    "<b><font color=\"red\" size=5>Checkpoints (15 points)</font></b>\n",
    "\n",
    "Implement `preprocess()` function, where you are required to \n",
    "\n",
    "- Fill in the blanks\n",
    "- Find the starting point of the received signals\n",
    "- Align the received and sent signals"
   ]
  },
  {
   "cell_type": "code",
   "execution_count": null,
   "id": "d38963ae-4f49-4f04-bf91-3cae5286af53",
   "metadata": {
    "deletable": false,
    "nbgrader": {
     "cell_type": "code",
     "checksum": "6b52128cfa655e28f2f66a85e766abcb",
     "grade": true,
     "grade_id": "cell-56e55f3fb1ca81aa",
     "locked": false,
     "points": 15,
     "schema_version": 3,
     "solution": true,
     "task": false
    },
    "tags": []
   },
   "outputs": [],
   "source": [
    "def preprocess():\n",
    "    # Step 1\n",
    "    # Filter the received signal against the background noise using `filt()` defined above.\n",
    "    # You need to specify these parameters based on your observation.\n",
    "    # You should store the filtered signal in `fmcw_receive_filt`\n",
    "    \n",
    "    fmcw_receive_filt = np.array([])\n",
    "    \n",
    "    #####################################################\n",
    "    # YOUR CODE HERE\n",
    "    raise NotImplementedError()\n",
    "    #####################################################\n",
    "    \n",
    "    assert(fmcw_receive_filt.shape[0] == fmcw_receive.shape[0])\n",
    "    \n",
    "    # Step 2\n",
    "    # Find the starting point\n",
    "    # It may be tricky. You can look at the time-domain curve and find the first index of reflected chirp\n",
    "    # It is a rough estimate. So the outcome may not be that accurate.\n",
    "    # You can find some algorithms (e.g. cross-correlation) to improve the accuracy.\n",
    "    # Store your output in `start`.\n",
    "    \n",
    "    start = None\n",
    "    #####################################################\n",
    "    # YOUR CODE HERE\n",
    "    raise NotImplementedError()\n",
    "    #####################################################\n",
    "    \n",
    "    assert(start != None)\n",
    "    \n",
    "    # Step 3\n",
    "    # You need to make sure the received and sent signals have the same shape\n",
    "    # For data between [0,start], you have to fill the sent data with 0\n",
    "    # You need to padding zero to whichever is shorter to align\n",
    "    # The transformed sent data should be stored in fmcw_p\n",
    "    \n",
    "    fmcw_p = np.array([])\n",
    "    \n",
    "    #####################################################\n",
    "    # YOUR CODE HERE\n",
    "    raise NotImplementedError()\n",
    "    #####################################################\n",
    "    \n",
    "    assert(fmcw_p.shape[0]==fmcw_receive_filt.shape[0])\n",
    "    print(fmcw_receive_filt.shape[0])\n",
    "    \n",
    "    return fmcw_p, fmcw_receive_filt, start\n",
    "    \n",
    "    \n",
    "    "
   ]
  },
  {
   "cell_type": "code",
   "execution_count": null,
   "id": "c381a02a-134c-47c5-9c5d-00a3bdc7e4ed",
   "metadata": {},
   "outputs": [],
   "source": [
    "fmcw_p, fmcw_receive_filt, start = preprocess()"
   ]
  },
  {
   "cell_type": "markdown",
   "id": "459673ce-3395-48ee-9b3f-5dfe8c216454",
   "metadata": {},
   "source": [
    "By now, you have the sent signals and received signals. They are aligned to be multiplied. Here we can come to the distance measuring part. As aforementioned, we first need to multiply the two signals. Then we need to perform FFT and find the peaks. At last, we compute the distance from the peak index. "
   ]
  },
  {
   "cell_type": "markdown",
   "id": "49636aa0-896f-41f6-bf35-8fee550f434e",
   "metadata": {},
   "source": [
    "<b><font color=\"red\" size=5>Checkpoints (15 points)</font></b>\n",
    "\n",
    "Implement `compute_distance()`. You are required to follow the instructions and fill the blanks."
   ]
  },
  {
   "cell_type": "code",
   "execution_count": null,
   "id": "e5285638-8cf1-429a-8e3e-f4ad14a39497",
   "metadata": {
    "deletable": false,
    "nbgrader": {
     "cell_type": "code",
     "checksum": "4abfef26ecbd32bfc4b12c5c8c25ac26",
     "grade": true,
     "grade_id": "cell-2c878e0c78e81f80",
     "locked": false,
     "points": 10,
     "schema_version": 3,
     "solution": true,
     "task": false
    },
    "tags": []
   },
   "outputs": [],
   "source": [
    "def compute_distance(fmcw_p = fmcw_p,\n",
    "                     fmcw_receive_filt = fmcw_receive_filt,\n",
    "                     start = start):\n",
    "    \n",
    "    # Step 1:\n",
    "    # Multiply fmcw_p and fmcw_receive_filt\n",
    "    # The output should be the same as input\n",
    "    # Store output in fmcw_mul\n",
    "    \n",
    "    fmcw_mul = np.array([])\n",
    "    \n",
    "    #####################################################\n",
    "    # YOUR CODE HERE\n",
    "    raise NotImplementedError()\n",
    "    #####################################################\n",
    "    \n",
    "    assert(fmcw_mul.shape[0] == fmcw_p.shape[0])\n",
    "    \n",
    "    # Step 2:\n",
    "    # Performing FFT to each chirp and find the peak index\n",
    "    # Note that you need to perform FFT in each period of chirp,\n",
    "    # so that you can get the frequency change continuously\n",
    "    # You are stongly encouraged to visualize the fft and see the peaks\n",
    "    # You may use `start` in your implemention\n",
    "    # You can various peak detection algorithms online\n",
    "    # Store your peak index in `idxs`:list\n",
    "    \n",
    "    idxs = []\n",
    "    \n",
    "    ####################################################\n",
    "    # YOUR CODE HERE\n",
    "    raise NotImplementedError()\n",
    "    #####################################################\n",
    "    assert(len(idxs) > 0)\n",
    "    \n",
    "    # Step 3\n",
    "    # When you get the peak index, you have to convert them to real freq\n",
    "    # And you can use the formula stated above to compute the distance\n",
    "    \n",
    "    out = [] \n",
    "    B = f1 - f0\n",
    "    v_s = 340 # speed of sound\n",
    "    for idx in idxs:\n",
    "        \n",
    "        d = 0\n",
    "        \n",
    "        # Computing the distance of each idx represents\n",
    "        \n",
    "        #####################################################\n",
    "        # YOUR CODE HERE\n",
    "        raise NotImplementedError()\n",
    "        #####################################################\n",
    "        \n",
    "        assert(d>0)\n",
    "        \n",
    "        out.append(d)\n",
    "        # print(d)\n",
    "    distance = np.mean(out)\n",
    "    return distance\n",
    "    "
   ]
  },
  {
   "cell_type": "code",
   "execution_count": null,
   "id": "b99cb9e4-6a58-4fd8-af8b-94904f2a264d",
   "metadata": {
    "deletable": false,
    "editable": false,
    "nbgrader": {
     "cell_type": "code",
     "checksum": "d17fe51496715378ff1c21d54dfa02d6",
     "grade": true,
     "grade_id": "cell-7febb724848ff9d8",
     "locked": true,
     "points": 5,
     "schema_version": 3,
     "solution": false,
     "task": false
    },
    "tags": []
   },
   "outputs": [],
   "source": []
  },
  {
   "cell_type": "markdown",
   "id": "00802b77-8647-46d2-aa80-7707d3901242",
   "metadata": {},
   "source": [
    "You can use `compute_distance()` to see the results. If you get your answer around 0.5, it means you have correctly compute the distance using acoustic signals. \n",
    "\n",
    "By now, you have implemented all the primary tasks. Congratulations! \n",
    "\n",
    "If you are still interested in this topic, you are welcome to implement Lab5, which is some advanced challenges! \n",
    "\n",
    "<b><font color=\"red\" size=3>State Your Contribution (Todo)</font></b>\n",
    "\n",
    "Before submitting, please kindly fill the [Microsoft forms]() that claim contributions of your teammates. You need to specify your roles in your team, such as coding for each part, debugging, or looking up materials. \n",
    "\n",
    "You are also been asked to quantify your contribution ranging from `[0,1]`. The sum of your team's contribution should be 1. Higher quota indicate more contributions. If your team member is equally contributed, you can type `0.33`. \n",
    "\n",
    "Note that the form you submitted should get consent from ALL of your team members. TA will confirm that with all of you afterwards.\n",
    "\n",
    "<b><font color=\"red\" size=3>About your report and presentation</font></b>\n",
    "\n",
    "You are required to submmit a report (no more than 2 pages) as well as a team presentation. Multiple groups would choose this lab and how to stand out? Here are some hints:\n",
    "\n",
    "- You can write about your observations and your findings. Or you may change some parameters to see what is changed. That is distinct and show your reflections\n",
    "- If you intend to finish Lab 5, you can emphasis your report and pre on what you have changed to make our algorithm more robust and accurate;\n",
    "- You are also encouraged to refer to some papers listed in Lab 5 and make a summary of current techniques\n",
    "\n",
    "The key is, you need to tell us something different. I hope you can benifit from our course."
   ]
  }
 ],
 "metadata": {
  "citation-manager": {
   "items": {}
  },
  "kernelspec": {
   "display_name": "Python 3 (ipykernel)",
   "language": "python",
   "name": "python3"
  },
  "language_info": {
   "codemirror_mode": {
    "name": "ipython",
    "version": 3
   },
   "file_extension": ".py",
   "mimetype": "text/x-python",
   "name": "python",
   "nbconvert_exporter": "python",
   "pygments_lexer": "ipython3",
   "version": "3.9.13"
  }
 },
 "nbformat": 4,
 "nbformat_minor": 5
}
