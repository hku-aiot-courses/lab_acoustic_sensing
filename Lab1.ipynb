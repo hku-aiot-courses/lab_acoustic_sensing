{
 "cells": [
  {
   "cell_type": "markdown",
   "id": "078749dd",
   "metadata": {},
   "source": [
    "Before you turn this problem in, make sure everything runs as expected. First, **restart the kernel** (in the menubar, select Kernel$\\rightarrow$Restart) and then **run all cells** (in the menubar, select Cell$\\rightarrow$Run All).\n",
    "\n",
    "Make sure you fill in any place that says `YOUR CODE HERE` or \"YOUR ANSWER HERE\", as well as your name and student ID below:"
   ]
  },
  {
   "cell_type": "code",
   "execution_count": null,
   "id": "244390cf",
   "metadata": {},
   "outputs": [],
   "source": [
    "NAME1 = \"\"\n",
    "NAME2 = \"\"\n",
    "NAME3 = \"\"\n",
    "ID1 = \"\" ## Your student id\n",
    "ID2 = \"\"\n",
    "ID3 = \"\""
   ]
  },
  {
   "cell_type": "markdown",
   "id": "d6bbf3d6",
   "metadata": {},
   "source": [
    "---"
   ]
  },
  {
   "cell_type": "markdown",
   "id": "8d1c4f27-0457-414a-b27a-9b33021647be",
   "metadata": {
    "deletable": false,
    "editable": false,
    "nbgrader": {
     "cell_type": "markdown",
     "checksum": "d087987ae5088b837907a0e80300d8eb",
     "grade": false,
     "grade_id": "cell-0b403afe2f557800",
     "locked": true,
     "schema_version": 3,
     "solution": false,
     "task": false
    },
    "tags": []
   },
   "source": [
    "# Lab1 Signal Processing Basics"
   ]
  },
  {
   "cell_type": "markdown",
   "id": "ff5de4d0-b2cb-4b24-bfa6-197a0241cc0d",
   "metadata": {
    "deletable": false,
    "editable": false,
    "nbgrader": {
     "cell_type": "markdown",
     "checksum": "19ccb7f493c7536316a4bfda7fef599a",
     "grade": false,
     "grade_id": "cell-b6bded39b719d207",
     "locked": true,
     "schema_version": 3,
     "solution": false,
     "task": false
    },
    "tags": []
   },
   "source": [
    "As we may use some basic signal processing techniques, such as fft, filtering, etc. in our lab. We may equip you with the basic signal processing background."
   ]
  },
  {
   "cell_type": "code",
   "execution_count": null,
   "id": "171173a4-a336-4239-8d71-87c020629245",
   "metadata": {
    "deletable": false,
    "editable": false,
    "nbgrader": {
     "cell_type": "code",
     "checksum": "1b75cc85e34a3688de3f3efe55399160",
     "grade": false,
     "grade_id": "cell-5b9b61606313cd1c",
     "locked": true,
     "schema_version": 3,
     "solution": false,
     "task": false
    },
    "tags": []
   },
   "outputs": [],
   "source": [
    "import numpy as np\n",
    "from scipy import integrate \n",
    "from scipy import signal\n",
    "from matplotlib import pyplot as plt"
   ]
  },
  {
   "cell_type": "markdown",
   "id": "f9bb953e-3839-49ef-9bb2-c89d64625a4d",
   "metadata": {
    "deletable": false,
    "editable": false,
    "nbgrader": {
     "cell_type": "markdown",
     "checksum": "daeed02534694b4af51a074451b4a7b8",
     "grade": false,
     "grade_id": "cell-c8b8de749cf5f506",
     "locked": true,
     "schema_version": 3,
     "solution": false,
     "task": false
    },
    "tags": []
   },
   "source": [
    "DFT(discrete Fourier Transform) plays an extreme role in all kinds of signal processing tasks. It is given by\n",
    "\n",
    "$$\n",
    "    X[k] = \\sum_{n=0}^{N-1} x[n] \\exp{ \\left(-j 2 \\pi \\dfrac{nk}{N}\\right)}\n",
    "$$\n",
    "where $x[n]$ is the input sequence with $N$ samples.\n",
    "It is used for filtering, spectral analysis, complexity reduction, equalization and so many other kinds of analysis. Before that, let us first start with CFT (continuous Froutier Transform)."
   ]
  },
  {
   "cell_type": "markdown",
   "id": "6f07d4a4-078e-42e9-a709-13e4ad83e536",
   "metadata": {},
   "source": [
    "## 1.1 CFT"
   ]
  },
  {
   "cell_type": "code",
   "execution_count": null,
   "id": "1a3808e7-2d90-4cfe-b36b-d5a832cefc57",
   "metadata": {
    "deletable": false,
    "editable": false,
    "nbgrader": {
     "cell_type": "code",
     "checksum": "766924cc5b3ff208f18c9b7bb84f3ced",
     "grade": false,
     "grade_id": "cell-cd333df5929bdf86",
     "locked": true,
     "schema_version": 3,
     "solution": false,
     "task": false
    },
    "tags": []
   },
   "outputs": [],
   "source": [
    "def cft(g, f):\n",
    "    \"\"\"Numerically evaluate the Fourier Transform of g for the given frequencies\"\"\"    \n",
    "    result = np.zeros(len(f), dtype=complex)\n",
    "    \n",
    "    # Loop over all frequencies and calculate integral value\n",
    "    for i, ff in enumerate(f):\n",
    "        # Evaluate the Fourier Integral for a single frequency ff, \n",
    "        # assuming the function is time-limited to abs(t)<5\n",
    "        result[i] = complex_quad(lambda t: g(t)*np.exp(-2j*np.pi*ff*t), -10, 10)\n",
    "    return result\n",
    "\n",
    "def complex_quad(g, a, b):\n",
    "    \"\"\"Return definite integral of complex-valued g from a to b, \n",
    "    using Simpson's rule\"\"\"\n",
    "    # 2501: Amount of used samples for the trapezoidal rule\n",
    "    t = np.linspace(a, b, 2501)  \n",
    "    x = g(t)\n",
    "    return integrate.simps(y=x, x=t)\n",
    "\n",
    "def triang(t):\n",
    "    return (1-abs(t)) * (abs(t)<1).astype(float)\n",
    "Fs = 10000\n",
    "t = np.arange(-10, 10, 1/Fs)\n",
    "\n",
    "f = np.arange(-3, 3, 1/20.)\n",
    "\n",
    "fig,ax = plt.subplots(2,1,figsize=(6,6))\n",
    "ax[0].plot(t, triang(t))\n",
    "ax[0].set_xlabel('t')\n",
    "ax[0].set_ylabel('g(t)')\n",
    "ax[0].set_title('Triangular function')\n",
    "ax[0].set_xlim(-10,10)\n",
    "ax[0].set_ylim(0,1)\n",
    "ax[0].grid()\n",
    "\n",
    "cft_triang = cft(triang, f)\n",
    "ax[1].plot(f, np.abs(cft_triang))\n",
    "ax[1].set_xlabel('f')\n",
    "ax[1].set_ylabel('|G(f)|')\n",
    "ax[1].set_title('Fourier Transform of Triangular function')\n",
    "ax[1].set_xlim(-3,3)\n",
    "ax[1].set_ylim(0,1)\n",
    "ax[1].grid()\n",
    "\n",
    "fig.tight_layout()"
   ]
  },
  {
   "cell_type": "markdown",
   "id": "43e1ad02-87e1-4ae4-a947-a5a1abb5571f",
   "metadata": {
    "deletable": false,
    "editable": false,
    "nbgrader": {
     "cell_type": "markdown",
     "checksum": "92cf9b23a7935ec2d081d1fa1e5f98da",
     "grade": false,
     "grade_id": "cell-3bd7fb146c78613d",
     "locked": true,
     "schema_version": 3,
     "solution": false,
     "task": false
    },
    "tags": []
   },
   "source": [
    "The CFT of the triangle is a sinc-function. If we use a periodic triangle, what would happen？"
   ]
  },
  {
   "cell_type": "code",
   "execution_count": null,
   "id": "1595c4ca-8bdc-4b89-93ba-7791987fecb3",
   "metadata": {
    "deletable": false,
    "editable": false,
    "nbgrader": {
     "cell_type": "code",
     "checksum": "72281899ae9d950ac42b4d654981223d",
     "grade": false,
     "grade_id": "cell-6ba1a60a90440283",
     "locked": true,
     "schema_version": 3,
     "solution": false,
     "task": false
    },
    "tags": []
   },
   "outputs": [],
   "source": [
    "def periodic_triang(t):\n",
    "    return triang(np.mod(t+1, 2)-1)\n",
    "\n",
    "fig,ax = plt.subplots(2,1, figsize=(6,6))\n",
    "# ax[0].subplot(121)\n",
    "ax[0].plot(t, periodic_triang(t))\n",
    "ax[0].set_xlabel(\"t\")\n",
    "ax[0].grid()\n",
    "ax[0].set_ylim(0,1)\n",
    "ax[0].set_xlim(-10,10)\n",
    "ax[0].set_title(\"Periodic Triangular function\")\n",
    "\n",
    "# plt.subplot(122)\n",
    "# Energy correction /10, since the periodic signal has 10 periods (i.e. 10 times the power)\n",
    "cft_periodic_triang = cft(periodic_triang, f) / 10\n",
    "ax[1].plot(f, abs(cft_periodic_triang), '-', label='$X(f)$ (periodic)')\n",
    "ax[1].plot(f, abs(cft_triang), label='$X(f)$ non-periodic', lw=2); \n",
    "ax[1].set_xlabel(\"f\")\n",
    "ax[1].set_ylim(0,1)\n",
    "ax[1].set_xlim(-3,3)\n",
    "ax[1].set_title(\"Fourier Transform of Periodic Triangular function\")\n",
    "ax[1].grid()\n",
    "ax[1].legend()\n",
    "fig.tight_layout()"
   ]
  },
  {
   "cell_type": "markdown",
   "id": "1a7eb105-bd56-4cc8-8935-6e4cbec62ceb",
   "metadata": {
    "deletable": false,
    "editable": false,
    "nbgrader": {
     "cell_type": "markdown",
     "checksum": "6e4830c19dc7cd67be9b046e771dd333",
     "grade": false,
     "grade_id": "cell-b446594791928af3",
     "locked": true,
     "schema_version": 3,
     "solution": false,
     "task": false
    }
   },
   "source": [
    "As shown,the spectrum of the periodic signal become not that smooth. It follows the shape of the non-perioc one. To conclude, the spectrum of the periodic signal is a sampled version of the continuous spectrum. This is one crucial observation. Furthermore, if we look into when the \"sharp\" will appear, you may find it is the countdown of the time-domain period $T$. To be exact, the spectrum is non-zero every $1/T = 0.5$Hz. "
   ]
  },
  {
   "cell_type": "markdown",
   "id": "3f7db82a-387b-424f-b69b-3ea69c4ba07b",
   "metadata": {},
   "source": [
    "## 1.2 Windowing"
   ]
  },
  {
   "cell_type": "markdown",
   "id": "61636b0d-bc90-4102-bff5-07ce03728a8b",
   "metadata": {},
   "source": [
    "Next we will discuss the windowing. What will happen if we add windows to a periodic signal."
   ]
  },
  {
   "cell_type": "code",
   "execution_count": null,
   "id": "92f61d84-5462-42a9-8b53-60854b34b747",
   "metadata": {
    "deletable": false,
    "editable": false,
    "nbgrader": {
     "cell_type": "code",
     "checksum": "7041c64c254c5c63d8218bf89069d282",
     "grade": false,
     "grade_id": "cell-23596a732cd2a7ab",
     "locked": true,
     "schema_version": 3,
     "solution": false,
     "task": false
    },
    "tags": []
   },
   "outputs": [],
   "source": [
    "def rect(t):\n",
    "    return (abs(t)<0.5).astype(float)\n",
    "window = lambda t: rect((t-1)/4)\n",
    "def windowed_periodic_triang(t):\n",
    "    return periodic_triang(t) * window(t)\n",
    "\n",
    "# plt.subplot(121)\n",
    "fig, ax = plt.subplots(2,1, figsize=(6,6))\n",
    "ax[0].plot(t, windowed_periodic_triang(t), 'b-', label='windowed', lw=2);\n",
    "ax[0].plot(t, window(t), 'r-', label='window')\n",
    "ax[0].plot(t, periodic_triang(t), 'g-x', label='periodic', markevery=2000)\n",
    "ax[0].set_xlabel(\"t\")\n",
    "ax[0].grid()\n",
    "ax[0].set_ylim(-0.2,1.6)\n",
    "ax[0].set_xlim(-5,5)\n",
    "ax[0].set_title(\"Windowed Periodic Triangular function\")\n",
    "ax[0].grid()\n",
    "ax[0].legend()\n",
    "\n",
    "cft_windowed_periodic_triang = cft(windowed_periodic_triang, f) / 2\n",
    "cft_window = cft(window, f) / 4\n",
    "# plt.subplot(122)\n",
    "ax[1].plot(f, abs(cft_windowed_periodic_triang), 'b-', label='windowed', lw=2);\n",
    "ax[1].plot(f, abs(cft_periodic_triang), 'g-x', label='periodic')\n",
    "ax[1].plot(f, abs(cft_window), 'r-', label='window')\n",
    "ax[1].set_xlabel(\"f\")\n",
    "ax[1].set_ylim(0,1)\n",
    "ax[1].set_xlim(-1.5,1.5)\n",
    "ax[1].set_title(\"Fourier Transform of Windowed Periodic Triangular function\")\n",
    "ax[1].grid()\n",
    "ax[1].legend()\n",
    "fig.tight_layout()"
   ]
  },
  {
   "cell_type": "markdown",
   "id": "e837f135-a9ca-4e7d-8f9a-93228233e55d",
   "metadata": {},
   "source": [
    "See, it becomes not that \"sharp\" again. It is obvious since the input signal becomes non-periodic. Oberserve carefully the windowed spectrum and the original. It crosses every non-zero intersection points of the non-windowed one. You may develop a sense that the windowing process is exactly doing multiplication in time domain. Mathematically, it will give rise the convoluntion of the frequency domain."
   ]
  },
  {
   "cell_type": "code",
   "execution_count": null,
   "id": "a2c2744a-c982-4244-8e5b-5004fd2c6474",
   "metadata": {},
   "outputs": [],
   "source": [
    "window = lambda t: rect(t/2)\n",
    "def windowed_periodic_triang(t):\n",
    "    return periodic_triang(t) * window(t)\n",
    "\n",
    "fig, ax = plt.subplots(2,1, figsize=(6,6))\n",
    "ax[0].plot(t, windowed_periodic_triang(t), 'b-', label='windowed', lw=2);\n",
    "ax[0].plot(t, window(t), 'r-', label='window')\n",
    "ax[0].plot(t, periodic_triang(t), 'g-x', label='periodic', markevery=2000)\n",
    "ax[0].set_xlabel(\"t\")\n",
    "ax[0].grid()\n",
    "ax[0].set_ylim(-0.2,1.6)\n",
    "ax[0].set_xlim(-5,5)\n",
    "ax[0].set_title(\"Windowed Periodic Triangular function\")\n",
    "ax[0].grid()\n",
    "ax[0].legend()\n",
    "\n",
    "cft_windowed_periodic_triang = cft(windowed_periodic_triang, f) / 2\n",
    "cft_window = cft(window, f) / 4\n",
    "# plt.subplot(122)\n",
    "ax[1].plot(f, abs(cft_windowed_periodic_triang), 'b-', label='windowed', lw=2);\n",
    "ax[1].plot(f, abs(cft_periodic_triang), 'g-x', label='periodic')\n",
    "ax[1].plot(f, abs(cft_window), 'r-', label='window')\n",
    "ax[1].set_xlabel(\"f\")\n",
    "ax[1].set_ylim(0,1)\n",
    "ax[1].set_xlim(-1.5,1.5)\n",
    "ax[1].set_title(\"Fourier Transform of Windowed Periodic Triangular function\")\n",
    "ax[1].grid()\n",
    "ax[1].legend()\n",
    "fig.tight_layout()"
   ]
  },
  {
   "cell_type": "markdown",
   "id": "18055512-14e8-4b53-8b7f-dc9f7ac7d75c",
   "metadata": {},
   "source": [
    "Naturally, when windowing the periodic function to just one period, it becomes the original (non-periodic) function. Hence, the spectrum of the windowed periodic (blue curve) and non-periodic function (black crosses) are equal. The blue spectrum is the convolution of the red curve (window) with the green curve (periodic function).\n",
    "\n"
   ]
  },
  {
   "cell_type": "markdown",
   "id": "6399de0c-71d7-406c-ba7c-857d41fc48bd",
   "metadata": {},
   "source": [
    "## 1.3 DFT and FFT"
   ]
  },
  {
   "cell_type": "markdown",
   "id": "98c5ff8e-7628-4de9-9f5f-19eaff6d10ef",
   "metadata": {},
   "source": [
    "The Discrete Fourier Transform (DFT) assumes that its input signal is one period of a periodic signal. Its outputs are the discrete frequencies of this periodic signal. For example, if we input an non-periodic signal, the DFT would transform the input as the periodic one.\n",
    "\n",
    "In common practice, we use FFT to compute DFT. Fast Fourier Transform (FFT) is just an algorithm for fast and efficient computation of the DFT. In our context, we then no longer distinguish between DFT and FFT."
   ]
  },
  {
   "cell_type": "code",
   "execution_count": null,
   "id": "a2a2a87b-3eef-4695-9ca4-846655e7f26d",
   "metadata": {},
   "outputs": [],
   "source": [
    "n = np.arange(32)\n",
    "xn = np.linspace(0, 1, len(n))\n",
    "\n",
    "fig, ax = plt.subplots(2,1, figsize=(6,6))\n",
    "ax[0].stem(n, xn);\n",
    "ax[0].set_xlabel(\"n\")\n",
    "ax[0].grid()\n",
    "ax[0].set_ylim(-0.0,1.1)\n",
    "ax[0].set_xlim(-1,33)\n",
    "ax[0].set_title(\"Input sequence\")\n",
    "ax[0].grid()\n",
    "# ax[0].legend()\n",
    "\n",
    "xn_periodic = np.hstack([xn]*5)\n",
    "# plt.subplot(122)\n",
    "ax[1].stem(xn_periodic)\n",
    "ax[1].set_xlabel(\"f\")\n",
    "ax[1].set_ylim(0,1.1)\n",
    "ax[1].set_xlim(0,161)\n",
    "ax[1].set_title(\"Siganl assumed by DFT\")\n",
    "ax[1].grid()\n",
    "# ax[1].legend()\n",
    "fig.tight_layout()"
   ]
  },
  {
   "cell_type": "markdown",
   "id": "bf274590-ae5c-4c29-9baa-3b6e8663086d",
   "metadata": {},
   "source": [
    "Therefore, the outcome of DFT would be discrete.  Suppose we input sequence $x[n]$ with $N$ samples, sampling rate $f_s$. Then what is the frequency intervals $\\Delta_f$? In other word, what frequencies will be output in DFT frequency domain? \n",
    "\n",
    "Mathematically, the frequency bins interval are given by\n",
    "$$\n",
    "\\Delta_f = \\frac{1}{T} = \\frac{f_s}{N}\n",
    "$$\n",
    "\n",
    "In other word, FFT output frequency bins correspond to the frequencies\n",
    "$$\n",
    "f_k = k \\cdot \\frac{fs}{N}\n",
    "$$"
   ]
  },
  {
   "cell_type": "code",
   "execution_count": null,
   "id": "e93f979b-480b-4e25-abb2-ce50922ec262",
   "metadata": {},
   "outputs": [],
   "source": [
    "n = np.arange(32)\n",
    "xn = np.linspace(0, 1, len(n))\n",
    "\n",
    "yn = np.fft.fft(xn)\n",
    "# y_freq = np.fft.fftfreq(y_fft.shape[0],d = len(n))\n",
    "y_abs = np.abs(yn)\n",
    "\n",
    "xn_periodic = np.hstack([xn]*5)\n",
    "yn_p = np.fft.fft(xn_periodic)\n",
    "yn_p_abs = np.abs(yn_p)\n",
    "fig, ax = plt.subplots(2,2, figsize=(10,10))\n",
    "\n",
    "ax[0][0].stem(n, xn);\n",
    "ax[0][0].set_xlabel(\"n\")\n",
    "ax[0][0].grid()\n",
    "ax[0][0].set_ylim(0,1.0)\n",
    "ax[0][0].set_xlim(0,30)\n",
    "ax[0][0].set_title(\"Input sequence\")\n",
    "ax[0][0].grid()\n",
    "\n",
    "ax[0][1].stem(xn_periodic)\n",
    "ax[0][1].set_xlabel(\"f\")\n",
    "ax[0][1].set_ylim(0,1.1)\n",
    "ax[0][1].set_xlim(0,161)\n",
    "ax[0][1].set_title(\"Siganl assumed by DFT\")\n",
    "ax[0][1].grid()\n",
    "\n",
    "\n",
    "ax[1][0].stem(y_abs);\n",
    "ax[1][0].set_xlabel(\"n\")\n",
    "ax[1][0].grid()\n",
    "ax[1][0].set_ylim(0,20)\n",
    "ax[1][0].set_xlim(-1,33)\n",
    "ax[1][0].set_title(\"DFT of Input sequence\")\n",
    "ax[1][0].grid()\n",
    "\n",
    "ax[1][1].stem(yn_p_abs);\n",
    "ax[1][1].set_xlabel(\"n\")\n",
    "ax[1][1].grid()\n",
    "ax[1][1].set_ylim(0,85)\n",
    "ax[1][1].set_xlim(-4,165)\n",
    "ax[1][1].set_title(\"DFT of Periodic Sequence\")\n",
    "ax[1][1].grid()\n",
    "\n",
    "fig.tight_layout()"
   ]
  },
  {
   "cell_type": "markdown",
   "id": "0a955a9d-4022-44e5-9db0-03901fa9ce72",
   "metadata": {},
   "source": [
    "See, the spectrum looks familar. You can find out the $\\Delta_f$ and the pattern of non-zero frequencies.\n",
    "\n",
    "Mathematically, FFT will derive the frequency of the input signals. We clearly see it by generating series of cosine signals. "
   ]
  },
  {
   "cell_type": "code",
   "execution_count": null,
   "id": "b46cc6c9-9723-471d-b9d1-49f3039fba8a",
   "metadata": {},
   "outputs": [],
   "source": [
    "f = 50\n",
    "fs = 440\n",
    "x = np.linspace(0,1,fs)\n",
    "y = 2 * np.cos(2 * np.pi * f * x)\n",
    "\n",
    "fig, ax = plt.subplots(2,1, figsize=(6,6))\n",
    "ax[0].plot(x, y);\n",
    "ax[0].set_xlabel(\"x\")\n",
    "ax[0].set_ylabel(\"y\")\n",
    "ax[0].grid()\n",
    "ax[0].set_ylim(-6,6)\n",
    "ax[0].set_xlim(0,1)\n",
    "ax[0].set_title(\"Time-domain signals\")\n",
    "ax[0].grid()\n",
    "\n",
    "y_fft = np.fft.fft(y)\n",
    "y_abs = np.abs(y_fft)\n",
    "ax[1].plot(y_abs)\n",
    "ax[1].set_xlabel(\"f\")\n",
    "# ax[1].set_ylim(0,1)\n",
    "# ax[1].set_xlim(0,160)\n",
    "ax[1].set_title(\"Frequency-domain spectrum\")\n",
    "ax[1].grid()\n",
    "# ax[1].legend()\n",
    "fig.tight_layout()"
   ]
  },
  {
   "cell_type": "markdown",
   "id": "c457ffc4-0490-489e-a858-6abf345a137a",
   "metadata": {},
   "source": [
    "After performing FFt on cosine signal, we can see claerly two peaks in the spectrum: $f_{p1}=50$Hz and $f_{p2}= f - f_{p1} = 390$ Hz. The first peak shows the frequency of the input signals, which is exactly 50Hz. The other peak, however, is symmetrical to the first peak. This is because the FFT contains only half of the information. \n",
    "\n",
    "Moreover, you need to take a look at the sampling frequency `fs`. What will happen if we increase or decrease it?\n",
    "\n",
    "You can change the frequency and observe it on your own. \n",
    "\n",
    "\n",
    "Up to now, you have already known how we can derive frequencies of input signals. Next you will be required to finish a function which will do that. Just try it!"
   ]
  },
  {
   "cell_type": "markdown",
   "id": "52d27436-33cd-4584-9177-ee17cc0cbd3c",
   "metadata": {},
   "source": [
    "<b><font color=\"red\" size=5>Checkpoints (20 points)</font></b>\n",
    "\n",
    "You have to implement a function `show_freq()`, which will compute the frequencies in the given signals using FFT. You should return an 1-d numpy array containing all the frequencies the `input_signal` has. You are blind to our test code, which means you shall use what we taught just now to implement.\n",
    "\n",
    "For example, if the input signal is $y = \\sin(2 \\pi \\times 200 x) + \\cos(2 \\pi \\times 100 x)$, then you should return `array([100,200])`. Orders do not matter. You should guarantee that you output the right frequencies the signals contain. You can write a few test on your own. After you submit your code, we will use our test code to autograde your implementation."
   ]
  },
  {
   "cell_type": "code",
   "execution_count": null,
   "id": "b351317f-7557-4766-a5ed-494c6babd7ba",
   "metadata": {
    "deletable": false,
    "nbgrader": {
     "cell_type": "code",
     "checksum": "ed5e41df88a495d96cdf8ed77603f4ea",
     "grade": true,
     "grade_id": "cell-8c4cb8021137f0a7",
     "locked": false,
     "points": 6,
     "schema_version": 3,
     "solution": true,
     "task": false
    },
    "tags": []
   },
   "outputs": [],
   "source": [
    "def show_freq(input_signals,fs):\n",
    "    '''\n",
    "        - Description: You have to compute the frequencies the input signal contains\n",
    "        - Input:\n",
    "            - input_signals: 1-d ndarray\n",
    "            - fs: sampling frequency\n",
    "        - Output:\n",
    "            - freq: ndarray of frequencies\n",
    "    \n",
    "    '''\n",
    "    \n",
    "    # YOUR CODE HERE\n",
    "    raise NotImplementedError()\n",
    "    "
   ]
  },
  {
   "cell_type": "code",
   "execution_count": null,
   "id": "ff3e3e17-863e-442f-a6eb-30cd33d8d3e7",
   "metadata": {
    "deletable": false,
    "editable": false,
    "nbgrader": {
     "cell_type": "code",
     "checksum": "db8ae1cb03e76eedbd8c35f1a09834e9",
     "grade": true,
     "grade_id": "cell-6a19e950da7a985d",
     "locked": true,
     "points": 2,
     "schema_version": 3,
     "solution": false,
     "task": false
    },
    "tags": []
   },
   "outputs": [],
   "source": []
  },
  {
   "cell_type": "code",
   "execution_count": null,
   "id": "70cebb5e-83bf-45f1-b1c4-785f707730f7",
   "metadata": {
    "deletable": false,
    "editable": false,
    "nbgrader": {
     "cell_type": "code",
     "checksum": "8399a1a121f1cd1cd488ddcfeb93b110",
     "grade": true,
     "grade_id": "cell-2738fd525f7aba93",
     "locked": true,
     "points": 2,
     "schema_version": 3,
     "solution": false,
     "task": false
    },
    "tags": []
   },
   "outputs": [],
   "source": []
  },
  {
   "cell_type": "markdown",
   "id": "91524e6d-e013-41c1-b2a8-4c811ad93f4d",
   "metadata": {
    "deletable": false,
    "editable": false,
    "nbgrader": {
     "cell_type": "markdown",
     "checksum": "a71b11a291f2a5aada35d26b8d3671c3",
     "grade": false,
     "grade_id": "cell-698450e9a101f3b6",
     "locked": true,
     "schema_version": 3,
     "solution": false,
     "task": false
    },
    "tags": []
   },
   "source": [
    "## 1.4 Zero padding and Frequency resolution"
   ]
  },
  {
   "cell_type": "markdown",
   "id": "c5b399ee-b01c-4d56-8b29-fba8f2bd9a73",
   "metadata": {
    "deletable": false,
    "editable": false,
    "nbgrader": {
     "cell_type": "markdown",
     "checksum": "f0315b1fc18bfd1d97ffcbb207926d89",
     "grade": false,
     "grade_id": "cell-a90a67a5c99a1d6f",
     "locked": true,
     "schema_version": 3,
     "solution": false,
     "task": false
    },
    "tags": []
   },
   "source": [
    "Zero padding is a simple concept; it simply refers to adding zeros to end of a time-domain signal to increase its length. There are a few reasons why you might want to zero pad time-domain data. The most common reason is to make a waveform have a power-of-two number of samples. When the time-domain length of a waveform is a power of two, radix-2 FFT algorithms, which are extremely efficient, can be used to speed up processing time. FFT algorithms made for FPGAs also typically only work on lengths of power two."
   ]
  },
  {
   "cell_type": "markdown",
   "id": "24e670a0-e259-4eb2-86bc-66496ccb83e6",
   "metadata": {
    "deletable": false,
    "editable": false,
    "nbgrader": {
     "cell_type": "markdown",
     "checksum": "ee87ab2e7b021666295b1c248037627e",
     "grade": false,
     "grade_id": "cell-4a312e74128d02f4",
     "locked": true,
     "schema_version": 3,
     "solution": false,
     "task": false
    },
    "tags": []
   },
   "source": [
    "While it’s often necessary to stick to powers of two in your time-domain waveform length, it’s important to keep in mind how doing that affects the resolution of your frequency-domain output. Back to the previous problem, suppose we input sequence $x[n]$ with $N$ samples, sampling rate $f_s$. At the end of the signal, we pad zero with length $N_{p}$. What is the resolution of the spectrum?\n",
    "\n",
    "To be exact, there are two aspects that we need to take into consideration. The first one is “real resolution”, and another one is FFT resolution. Without zero padding, this two resolution is the same. This is confusing when, however, we perform zero-padding. The conclusion is zero-padding will not increase the real resolution of the output, since no useful information is increased. However, zero-padding would exactly increase the FFT resoluton. We will explain it in the following part.\n",
    "\n",
    "Since we have $N$ signals with sampling rate of $f_s$, the real time of the signal would be \n",
    "$$\n",
    "T = \\frac{N}{f_s}\n",
    "$$\n",
    "\n",
    "Hereby, the real resolution of the frequency is \n",
    "$$\n",
    "\\Delta_f^{\\text{real}} = \\frac{1}{T} = \\dfrac{f_s}{N}\n",
    "$$\n",
    "\n",
    "The real resolution refers to the waveform frequency that you can derive. With a small real resolution, you are not able to show frequencies with tiny differences, i.e 120Hz and 121Hz. In other word, you can not separate two tones at nearby frequencies , no matter how much zero is padded.\n",
    "\n",
    "After padding, the FFT length of signals will be increased, i.e.\n",
    "$$\n",
    "T_{p} = T + \\frac{N_p}{f_s}\n",
    "$$\n",
    "\n",
    "Then, the FFT resolution is given by\n",
    "$$\n",
    "\\Delta_f^{\\text{FFT}} = \\frac{1}{T_p} = \\dfrac{f_s}{N + N_p}\n",
    "$$\n",
    "\n",
    "That is to say, by performing zero-padding, more points can be plotted. You can understand FFt resolution as DPI (plot points per inch) resolution. This is in line with the statement, that ZP does not reveal extra information from the spectrum. Instead it merely interpolates the coarse spectrum to become more smooth. It does not help in distinguishing between two close frequencies.\n"
   ]
  },
  {
   "cell_type": "code",
   "execution_count": null,
   "id": "3f174232-48de-491c-b9af-13b1cecb5982",
   "metadata": {
    "deletable": false,
    "editable": false,
    "nbgrader": {
     "cell_type": "code",
     "checksum": "d0ab0c0ea548bf91b08e7e9ba732329e",
     "grade": false,
     "grade_id": "cell-2943b9eaa8590245",
     "locked": true,
     "schema_version": 3,
     "solution": false,
     "task": false
    },
    "tags": []
   },
   "outputs": [],
   "source": [
    "f1 = 50\n",
    "f2 = 50.8\n",
    "x=np.linspace(0,1,600)      \n",
    "y = 2 * np.cos(2 * np.pi * f1 *x) + 3 * np.cos(2 * np.pi * f2 * x)\n",
    "\n",
    "y_fft = np.fft.fft(y)\n",
    "y_fft_len = (int)(y_fft.shape[0] / 2)\n",
    "y_fft_freq = np.fft.fftfreq(y_fft.shape[0],d = 1/600)\n",
    "y_abs = np.abs(y_fft)\n",
    "\n",
    "y_fft_p = np.fft.fft(y,512)\n",
    "y_fft_len_p = (int)(y_fft_p.shape[0] / 2)\n",
    "y_fft_freq_p = np.fft.fftfreq(y_fft_p.shape[0],d = 1/600)\n",
    "y_abs_p = np.abs(y_fft_p)\n",
    "\n",
    "x_p = np.linspace(0,3,600)\n",
    "y_p = 2 * np.cos(2 * np.pi * f1 *x_p) + 3 * np.cos(2 * np.pi * f2 * x_p)\n",
    "\n",
    "y_fft_yp = np.fft.fft(y_p)\n",
    "y_fft_len_yp = (int)(y_fft_yp.shape[0] / 2)\n",
    "y_fft_freq_yp = np.fft.fftfreq(y_fft_yp.shape[0], d = 1/200)\n",
    "y_abs_yp = np.abs(y_fft_yp)\n",
    "\n",
    "fig, ax = plt.subplots(2,2, figsize=(10,10))\n",
    "\n",
    "ax[0][0].plot(x,y);\n",
    "ax[0][0].set_xlabel(\"t\")\n",
    "ax[0][0].set_ylabel(\"y\")\n",
    "# ax[0].set_ylim(-6,6)\n",
    "# ax[0].set_xlim(0,1)\n",
    "ax[0][0].set_title(\"Raw Signal\")\n",
    "ax[0][0].grid()\n",
    "\n",
    "ax[0][1].plot(y_fft_freq[:y_fft_len],y_abs[:y_fft_len]);\n",
    "ax[0][1].set_xlabel(\"f\")\n",
    "ax[0][1].set_ylabel(\"|G(f)|\")\n",
    "# ax[0].set_ylim(-6,6)\n",
    "ax[0][1].set_xlim(0,100)\n",
    "ax[0][1].set_title(\"FFT without zero padding\")\n",
    "ax[0][1].grid()\n",
    "\n",
    "ax[1][0].plot(y_fft_freq_yp[:y_fft_len_yp],y_abs_yp[:y_fft_len_yp]);\n",
    "ax[1][0].set_xlabel(\"f\")\n",
    "ax[1][0].set_ylabel(\"|G(f)|\")\n",
    "# ax[0].set_ylim(-6,6)\n",
    "ax[1][0].set_xlim(20,80)\n",
    "ax[1][0].set_title(\"FFT with increase samples\")\n",
    "ax[1][0].grid()\n",
    "\n",
    "ax[1][1].plot(y_fft_freq_p[:y_fft_len_p],y_abs_p[:y_fft_len_p]);\n",
    "ax[1][1].set_xlabel(\"f\")\n",
    "ax[1][1].set_ylabel(\"|G(f)|\")\n",
    "# ax[0].set_ylim(-6,6)\n",
    "ax[1][1].set_xlim(0,100)\n",
    "ax[1][1].set_title(\"FFT with zero padding\")\n",
    "ax[1][1].grid()\n"
   ]
  },
  {
   "cell_type": "markdown",
   "id": "5101fc14-d4fc-457e-b078-008e15f59cf6",
   "metadata": {},
   "source": [
    "Up to now, I believe you have understood a little bit about the signal processing. It is a good start. In the next few sections, we would guide you through a hand-on distance measuring with acoustic sensing. Go ahead!"
   ]
  }
 ],
 "metadata": {
  "citation-manager": {
   "items": {}
  },
  "kernelspec": {
   "display_name": "Python 3 (ipykernel)",
   "language": "python",
   "name": "python3"
  },
  "language_info": {
   "codemirror_mode": {
    "name": "ipython",
    "version": 3
   },
   "file_extension": ".py",
   "mimetype": "text/x-python",
   "name": "python",
   "nbconvert_exporter": "python",
   "pygments_lexer": "ipython3",
   "version": "3.9.13"
  }
 },
 "nbformat": 4,
 "nbformat_minor": 5
}
