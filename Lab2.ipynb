{
 "cells": [
  {
   "cell_type": "markdown",
   "id": "3444fe42",
   "metadata": {},
   "source": [
    "Before you turn this problem in, make sure everything runs as expected. First, **restart the kernel** (in the menubar, select Kernel$\\rightarrow$Restart) and then **run all cells** (in the menubar, select Cell$\\rightarrow$Run All).\n",
    "\n",
    "Make sure you fill in any place that says `YOUR CODE HERE` or \"YOUR ANSWER HERE\", as well as your name and student ID below:"
   ]
  },
  {
   "cell_type": "code",
   "execution_count": null,
   "id": "42170bbe",
   "metadata": {},
   "outputs": [],
   "source": [
    "NAME1 = \"\"\n",
    "NAME2 = \"\"\n",
    "NAME3 = \"\"\n",
    "ID1 = \"\" ## Your student id\n",
    "ID2 = \"\"\n",
    "ID3 = \"\""
   ]
  },
  {
   "cell_type": "markdown",
   "id": "eb342654",
   "metadata": {},
   "source": [
    "---"
   ]
  },
  {
   "cell_type": "markdown",
   "id": "facdc53e-6c5d-4b4e-aaa6-a3dbeb348a29",
   "metadata": {},
   "source": [
    "# Lab 2 Play with sound"
   ]
  },
  {
   "cell_type": "markdown",
   "id": "5aaf2e91-3e7e-43c4-a002-d2a3aaaa231c",
   "metadata": {},
   "source": [
    "Here we begin our acoustic sensing journey. In the first stage, you have to be familar with your speaker and microphones in the code level. We will introduce `sounddevice` and guide you record your own voice."
   ]
  },
  {
   "cell_type": "markdown",
   "id": "acbb1c0e-f7f3-4c15-a02d-b838d9ed6ccd",
   "metadata": {},
   "source": [
    "Before we start, you should have installed all the packages and modules needed. If not, you can refer to Lab 0. If you are running with errors like `ImportError: No module named ...`, you should check the installation status of the corresponding packages. If not yet, you can run `pip install <module-name>` in your command line. If you have installed and encounter this problem, check if they are in your environment path. You are encouraged to seek help from Google or your teammates.  "
   ]
  },
  {
   "cell_type": "code",
   "execution_count": null,
   "id": "cab586e8-2d0b-43a0-b67d-13d31146cd46",
   "metadata": {
    "ExecuteTime": {
     "end_time": "2022-09-08T16:59:22.577878Z",
     "start_time": "2022-09-08T16:59:22.144629Z"
    }
   },
   "outputs": [],
   "source": [
    "import numpy as np\n",
    "import sounddevice as sd\n",
    "# You may need run `conda install -c conda-forge libsndfile` if you use Mac M1\n",
    "import soundfile as sf\n",
    "from scipy import signal\n",
    "from matplotlib import pyplot as plt"
   ]
  },
  {
   "cell_type": "markdown",
   "id": "4efa7794-bfe7-4fe7-8667-b97592e235ca",
   "metadata": {},
   "source": [
    "We use `sounddevice` as our control of speakers and microphones. This Python module provides bindings for the PortAudio library and a few convenience functions to play and record NumPy arrays containing audio signals. It is available for Linux, macOS and Windows.\n",
    "\n",
    "You can refer to its document by clicking [Sounddevice document](https://python-sounddevice.readthedocs.io/)"
   ]
  },
  {
   "cell_type": "markdown",
   "id": "b27ffb16-933a-44f2-b762-aaabc2d7d6f9",
   "metadata": {},
   "source": [
    "## Know what is on your device"
   ]
  },
  {
   "cell_type": "markdown",
   "id": "6caf1b07-b6d0-4ba3-bb89-2d59995d6189",
   "metadata": {},
   "source": [
    "You can use `query_devices` to see all the audio devices:"
   ]
  },
  {
   "cell_type": "code",
   "execution_count": null,
   "id": "f00931e7-5133-4289-a856-f43d4a746ed2",
   "metadata": {
    "ExecuteTime": {
     "end_time": "2022-09-08T16:59:22.737793Z",
     "start_time": "2022-09-08T16:59:22.728914Z"
    }
   },
   "outputs": [],
   "source": [
    "sd.query_devices()"
   ]
  },
  {
   "cell_type": "markdown",
   "id": "c60e41ab-e2b1-41a5-afac-0fd1c93aaafe",
   "metadata": {},
   "source": [
    "There are some default settings of what `sounndevice` will do. These settings are stored in `class sounddevice.default`. It contains attributes including `device`, `channels`, `dtype`, `latency` and `extra_settings`. They accept single values which specify the given property for both input and output. However, if the property differs between input and output, pairs of values can be used, where the first value specifies the input and the second value specifies the output. All other attributes are always single values."
   ]
  },
  {
   "cell_type": "code",
   "execution_count": null,
   "id": "486e01e9-f499-421f-bf81-21936dfbd664",
   "metadata": {},
   "outputs": [],
   "source": [
    "fs = (int)(48e3)\n",
    "latency = 'high','high'\n",
    "channel = 1,1\n",
    "device_in = 'MacBook Pro Microphone' # Change according to your device\n",
    "device_out = 'MacBook Pro Speakers'\n",
    "dtype = np.float32\n",
    "\n",
    "sd.default.latency = latency\n",
    "sd.default.samplerate = fs\n",
    "sd.default.channels = channel\n",
    "sd.default.device = device_in, device_out\n",
    "sd.default.dtype = dtype"
   ]
  },
  {
   "cell_type": "markdown",
   "id": "97a7ea04-4915-451b-be1a-284446f2d8f6",
   "metadata": {
    "ExecuteTime": {
     "end_time": "2022-09-08T16:59:23.931954Z",
     "start_time": "2022-09-08T16:59:23.928271Z"
    }
   },
   "source": [
    "You can check whether these settings are compatabile with your devices by calling `check_input_settings()` and `check_output_settings()`"
   ]
  },
  {
   "cell_type": "code",
   "execution_count": null,
   "id": "4be6af63-a279-4e67-969c-c216e0ce912c",
   "metadata": {
    "ExecuteTime": {
     "end_time": "2022-09-08T16:59:24.807724Z",
     "start_time": "2022-09-08T16:59:24.769677Z"
    }
   },
   "outputs": [],
   "source": [
    "print(sd.check_input_settings())\n",
    "print(sd.check_output_settings())"
   ]
  },
  {
   "cell_type": "markdown",
   "id": "66bc46ce-0a5f-4f4f-b924-f95293125bcd",
   "metadata": {},
   "source": [
    "If the output is `None`, it indicates your settings are correct."
   ]
  },
  {
   "cell_type": "code",
   "execution_count": null,
   "id": "e8fac7bf-9485-45f8-b933-a1d594dd684b",
   "metadata": {
    "ExecuteTime": {
     "end_time": "2022-09-08T16:59:25.594310Z",
     "start_time": "2022-09-08T16:59:25.586739Z"
    }
   },
   "outputs": [],
   "source": [
    "assert(sd.check_input_settings()==None)\n",
    "assert(sd.check_output_settings()==None)"
   ]
  },
  {
   "cell_type": "markdown",
   "id": "5f7430f8-76c9-4872-bdfa-d611c576b598",
   "metadata": {},
   "source": [
    "## Play and record a clip "
   ]
  },
  {
   "cell_type": "markdown",
   "id": "3415ade0-7ccf-4aba-bafa-7d5e0f8c4113",
   "metadata": {},
   "source": [
    "After setting your hardwares, you may be curious about how to use them. In this part, we will introduce some APIs, which could play and record the sounds using the sound device. "
   ]
  },
  {
   "cell_type": "markdown",
   "id": "7fb3a05e-08b7-45b2-92f3-ebf95b99efe9",
   "metadata": {},
   "source": [
    "Check your directory, you will see a `.wav` file called `canon.wav`. We will use this audio as an example to show how to play and record audios."
   ]
  },
  {
   "cell_type": "code",
   "execution_count": null,
   "id": "eef04b11-d664-4632-8d6f-556181b1a490",
   "metadata": {
    "ExecuteTime": {
     "end_time": "2022-09-08T17:02:28.623239Z",
     "start_time": "2022-09-08T17:02:28.250118Z"
    }
   },
   "outputs": [],
   "source": [
    "filename = './canon.wav'\n",
    "data,fs = sf.read(filename,dtype='float32')\n",
    "one_channel_data = data[:,0]\n",
    "# sd.play(one_channel_data,fs)"
   ]
  },
  {
   "cell_type": "markdown",
   "id": "8e4ea982-78f8-4e1c-a8ef-50babbfcf58c",
   "metadata": {},
   "source": [
    "We only want one channel of the sound. That is what `one_channel_data` do. We use `sf.read()` to read a audio file and it will be written into `data` as numpy array. `fs` is the sampling rate of the wav, which is 48000Hz. `sd.play()` is called to play the sounds. If you want to stop it, you call call"
   ]
  },
  {
   "cell_type": "code",
   "execution_count": null,
   "id": "e70506b5-d284-4cb1-a574-99f1295e070c",
   "metadata": {},
   "outputs": [],
   "source": [
    "sd.stop()"
   ]
  },
  {
   "cell_type": "markdown",
   "id": "2146a3b3-4b86-49f8-b464-08ab18045128",
   "metadata": {},
   "source": [
    "We can see what we are playing:"
   ]
  },
  {
   "cell_type": "code",
   "execution_count": null,
   "id": "4f4e4826-ad05-43c4-b16d-fc8209843e8b",
   "metadata": {
    "ExecuteTime": {
     "end_time": "2022-09-08T17:02:52.032197Z",
     "start_time": "2022-09-08T17:02:52.021525Z"
    }
   },
   "outputs": [],
   "source": [
    "one_channel_data"
   ]
  },
  {
   "cell_type": "code",
   "execution_count": null,
   "id": "28234a99-df24-413f-95a9-c0acba30f5c9",
   "metadata": {},
   "outputs": [],
   "source": [
    "one_channel_data.reshape(-1,1).shape"
   ]
  },
  {
   "cell_type": "markdown",
   "id": "a653e618-f0b4-4b03-86e1-6dc102192cdd",
   "metadata": {},
   "source": [
    "See, The sound are complex values. We can plot it in time-domain."
   ]
  },
  {
   "cell_type": "code",
   "execution_count": null,
   "id": "6c7c63af-d587-48ae-b123-c3e9e1a189d4",
   "metadata": {},
   "outputs": [],
   "source": [
    "t = np.arange(0, one_channel_data.shape[0] / fs, 1/fs)\n",
    "plt.plot(t, one_channel_data)\n",
    "plt.xlim(0,np.max(t))"
   ]
  },
  {
   "cell_type": "markdown",
   "id": "3a72e3f2-31f3-4d2b-9602-e236d25cb822",
   "metadata": {},
   "source": [
    "It is hard to acquire useful information from this time-domain data. How about frequency domain?"
   ]
  },
  {
   "cell_type": "code",
   "execution_count": null,
   "id": "5152dcbd-84eb-40e4-8d5f-f0df1a452d83",
   "metadata": {},
   "outputs": [],
   "source": [
    "data_fft = np.fft.fft(one_channel_data)\n",
    "data_fft_len = (int)(data_fft.shape[0] / 2)\n",
    "data_fft_freq = np.fft.fftfreq(data_fft.shape[0], d = 1/fs)\n",
    "data_abs = np.abs(data_fft)\n",
    "plt.plot(data_fft_freq[:data_fft_len],data_abs[:data_fft_len])"
   ]
  },
  {
   "cell_type": "markdown",
   "id": "2d2f10ef-df15-479a-a5fd-6df686608934",
   "metadata": {},
   "source": [
    "The main frequencies range mostly less than 5kHz. In common sense, human can hear sounds from 20 to 2kHz. So, that is exactly what we expect. You can also use `sd.record()` to record your sounds. How about recording the playing audios? For simple data, `sounddevice` give us a simple solution: `playrec`. By running it, you can record and play simultaneously."
   ]
  },
  {
   "cell_type": "code",
   "execution_count": null,
   "id": "336446a2-3cd9-4ba8-b41e-8f7982416261",
   "metadata": {
    "ExecuteTime": {
     "end_time": "2022-09-08T17:02:53.791787Z",
     "start_time": "2022-09-08T17:02:52.927065Z"
    },
    "deletable": false,
    "editable": false,
    "nbgrader": {
     "cell_type": "code",
     "checksum": "d0a230f902dd601e2f830b0859d508b5",
     "grade": false,
     "grade_id": "cell-2fbd63757f72a818",
     "locked": true,
     "schema_version": 3,
     "solution": false,
     "task": false
    },
    "tags": []
   },
   "outputs": [],
   "source": [
    "myrecording = sd.playrec(data, fs)"
   ]
  },
  {
   "cell_type": "markdown",
   "id": "9b9ee766-2101-4aa7-af26-0faeeda4c260",
   "metadata": {},
   "source": [
    "You can check your recording by running"
   ]
  },
  {
   "cell_type": "code",
   "execution_count": null,
   "id": "aab47c8f-bebe-47d9-916c-f520d31810ff",
   "metadata": {
    "deletable": false,
    "editable": false,
    "nbgrader": {
     "cell_type": "code",
     "checksum": "ea433d81e6e8b8f541ed3f18486a9375",
     "grade": false,
     "grade_id": "cell-fa9021618fc72d9c",
     "locked": true,
     "schema_version": 3,
     "solution": false,
     "task": false
    }
   },
   "outputs": [],
   "source": [
    "sd.play(myrecording)"
   ]
  },
  {
   "cell_type": "markdown",
   "id": "1f179dc3-38fe-42e5-97d1-b166ef6c4b23",
   "metadata": {
    "ExecuteTime": {
     "end_time": "2022-09-05T05:56:11.067648Z",
     "start_time": "2022-09-05T05:56:10.993224Z"
    },
    "deletable": false,
    "editable": false,
    "nbgrader": {
     "cell_type": "markdown",
     "checksum": "edc0c647a41876cb243c3a8342adcbe5",
     "grade": false,
     "grade_id": "cell-c68addbbb207f29f",
     "locked": true,
     "schema_version": 3,
     "solution": false,
     "task": false
    }
   },
   "source": [
    "## Streams and Callback Function"
   ]
  },
  {
   "cell_type": "markdown",
   "id": "9f8c82ea-7cd0-4e10-bf8f-dcddcbf2739b",
   "metadata": {
    "deletable": false,
    "editable": false,
    "nbgrader": {
     "cell_type": "markdown",
     "checksum": "8418ee158a5adfb882196884c9b54ec9",
     "grade": false,
     "grade_id": "cell-8a1a643aaee454fb",
     "locked": true,
     "schema_version": 3,
     "solution": false,
     "task": false
    }
   },
   "source": [
    "Up to now, you may have learnt how to play and record the sounds. It sounds great since you are getting familar with your hardware device. However, the aforementioned functions are designed for small scripts and not enough to implement an acoustic sensing task. Under most circumstances, we need more control over these data, like continuous recording as well as real time processing. \n",
    "\n",
    "Therefore, we introduce `Stream`, which is a more low-level class for audio controls. When a stream is running, PortAudio calls the  `callback()` periodically. The callback function is responsible for processing and filling input and output buffers, respectively. "
   ]
  },
  {
   "cell_type": "markdown",
   "id": "0f8f1b6d-901b-4bf2-9d4a-66683cd887e0",
   "metadata": {
    "deletable": false,
    "editable": false,
    "nbgrader": {
     "cell_type": "markdown",
     "checksum": "99860634fc5b855484bfa920f0d811dc",
     "grade": false,
     "grade_id": "cell-189baf304377c23c",
     "locked": true,
     "schema_version": 3,
     "solution": false,
     "task": false
    },
    "tags": []
   },
   "source": [
    "Here is a typical `callback()` signature:\n",
    "```\n",
    "callback(indata: ndarray, outdata: ndarray, frames: int,time: CData, status: CallbackFlags) -> None\n",
    "```\n",
    "\n",
    "`indata` is what the microphone receives while `outdata` is what the speaker plays. Frames refer to the number of frames to be processed by the stream callback. This is the same as the length of the input and output buffers. `status` is a CallbackFlags instance indicating whether input and/or output buffers have been inserted or will be dropped to overcome underflow or overflow conditions. More information could be found by reading the `sounddevice` document."
   ]
  },
  {
   "cell_type": "markdown",
   "id": "350a8721-c884-45a2-a4e9-09286b510635",
   "metadata": {
    "deletable": false,
    "editable": false,
    "nbgrader": {
     "cell_type": "markdown",
     "checksum": "960e92af79e7872d125c324b7c219ceb",
     "grade": false,
     "grade_id": "cell-29cadd80528580c0",
     "locked": true,
     "schema_version": 3,
     "solution": false,
     "task": false
    }
   },
   "source": [
    "<b><font color=\"red\" size=5>Checkpoints (15 points)</font></b>\n",
    "\n",
    "Implement the `callback` function. You need to make sure the shape of the recorded data is the SAME as that of the input audio `one_channel_data`. You should store your recordings in `datarec`, which is a global variable."
   ]
  },
  {
   "cell_type": "code",
   "execution_count": null,
   "id": "a4064f41-94fc-45e9-a5a9-d4500e7952d2",
   "metadata": {
    "deletable": false,
    "editable": false,
    "nbgrader": {
     "cell_type": "code",
     "checksum": "6b17c06be04cedff141adb794c5cdd1d",
     "grade": true,
     "grade_id": "cell-1233ef184c8c42ab",
     "locked": true,
     "points": 0,
     "schema_version": 3,
     "solution": false,
     "task": false
    },
    "tags": []
   },
   "outputs": [],
   "source": []
  },
  {
   "cell_type": "code",
   "execution_count": null,
   "id": "90280a89-3112-41d5-b0a7-91e3b731a6d4",
   "metadata": {
    "ExecuteTime": {
     "end_time": "2022-09-08T17:04:26.609308Z",
     "start_time": "2022-09-08T17:04:25.466066Z"
    },
    "deletable": false,
    "nbgrader": {
     "cell_type": "code",
     "checksum": "4e89ee1c9fcd2f42ac1e84a6c883628f",
     "grade": true,
     "grade_id": "cell-8864982734eba5f9",
     "locked": false,
     "points": 15,
     "schema_version": 3,
     "solution": true,
     "task": false
    },
    "tags": []
   },
   "outputs": [],
   "source": [
    "'''\n",
    "    callback(indata: ndarray, outdata: ndarray, frames: int,time: CData, status: CallbackFlags) -> None\n",
    "    - Input\n",
    "        * indata  : recorded data\n",
    "        * outdata : playing data\n",
    "        * frames  : input and output buffers\n",
    "        * time    : a CFFI structure with timestamps\n",
    "        * status  : underflow/overflow flags\n",
    "    - Function: \n",
    "        * Control the indata and outdata; The outdata should be `one_channel_data`, and indata should \n",
    "          be the recording data;\n",
    "        * You should store your recordings in `datarec`\n",
    "        * The shape of `datarec` should be the same as `one_channel_data`\n",
    "'''\n",
    "idx = 0 \n",
    "datarec = np.array([]).reshape(-1,1)\n",
    "data_len = len(one_channel_data)\n",
    "def callback(indata, outdata, frames, time, status):\n",
    "    global datarec\n",
    "    if status:\n",
    "        print(status)\n",
    "    \n",
    "    # YOUR CODE HERE\n",
    "    raise NotImplementedError()\n",
    "\n",
    "try:\n",
    "    with sd.Stream(callback=callback):\n",
    "        # YOUR CODE HERE\n",
    "        raise NotImplementedError()\n",
    "except sd.CallbackStop:\n",
    "    exit('')\n",
    "except KeyboardInterrupt:\n",
    "    exit('')\n",
    "except Exception as e:\n",
    "    exit(type(e).__name__ + ': ' + str(e))"
   ]
  },
  {
   "cell_type": "code",
   "execution_count": null,
   "id": "cb83d3ce-eedf-4432-856d-d640ab6b1933",
   "metadata": {
    "ExecuteTime": {
     "end_time": "2022-09-08T17:04:54.099351Z",
     "start_time": "2022-09-08T17:04:54.083070Z"
    },
    "deletable": false,
    "editable": false,
    "nbgrader": {
     "cell_type": "code",
     "checksum": "4330767a9b58f028d9c75bd01c0367d8",
     "grade": true,
     "grade_id": "cell-6bfc6763ddb02249",
     "locked": true,
     "points": 0,
     "schema_version": 3,
     "solution": false,
     "task": false
    },
    "tags": []
   },
   "outputs": [],
   "source": []
  },
  {
   "cell_type": "markdown",
   "id": "f759cb9b-f214-4e6c-b2d0-0c428d9ac287",
   "metadata": {},
   "source": [
    "By now you should know how to work with your sound devices and learn to record the sounds being played. You will probably use them in the next tasks.\n",
    "\n",
    "Alternatively, you can use your existing knowledge to make a live recording of the device and display its spectrum. This is not compulsory. But if you accomplish it, you can earn some bonus points."
   ]
  },
  {
   "cell_type": "markdown",
   "id": "4aaca536-5275-4605-8432-e9594a139b30",
   "metadata": {
    "deletable": false,
    "editable": false,
    "nbgrader": {
     "cell_type": "markdown",
     "checksum": "5075fb4587d2b61be92a67234eb972b6",
     "grade": false,
     "grade_id": "cell-44141f0b74cc3863",
     "locked": true,
     "points": 5,
     "schema_version": 3,
     "solution": false,
     "task": true
    },
    "tags": []
   },
   "source": [
    "<b><font  size=3>Bonus Task (optional)</font></b>\n",
    "\n",
    "Making a live recording and depict the spectrum."
   ]
  },
  {
   "cell_type": "code",
   "execution_count": null,
   "id": "95846a2f-835a-4220-9d00-804390ac651c",
   "metadata": {},
   "outputs": [],
   "source": []
  }
 ],
 "metadata": {
  "citation-manager": {
   "items": {}
  },
  "kernelspec": {
   "display_name": "Python 3 (ipykernel)",
   "language": "python",
   "name": "python3"
  },
  "language_info": {
   "codemirror_mode": {
    "name": "ipython",
    "version": 3
   },
   "file_extension": ".py",
   "mimetype": "text/x-python",
   "name": "python",
   "nbconvert_exporter": "python",
   "pygments_lexer": "ipython3",
   "version": "3.9.13"
  }
 },
 "nbformat": 4,
 "nbformat_minor": 5
}
